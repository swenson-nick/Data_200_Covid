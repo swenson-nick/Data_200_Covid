{
 "cells": [
  {
   "cell_type": "code",
   "execution_count": 2,
   "metadata": {},
   "outputs": [],
   "source": [
    "import pandas as pd\n",
    "import numpy as np\n",
    "import matplotlib.pyplot as plt\n",
    "import seaborn as sns"
   ]
  },
  {
   "cell_type": "markdown",
   "metadata": {},
   "source": [
    "# Can we predict the current growth rate based on dates certain measures were taken?"
   ]
  },
  {
   "cell_type": "markdown",
   "metadata": {},
   "source": [
    "## Data Cleaning"
   ]
  },
  {
   "cell_type": "code",
   "execution_count": 3,
   "metadata": {},
   "outputs": [
    {
     "data": {
      "text/html": [
       "<div>\n",
       "<style scoped>\n",
       "    .dataframe tbody tr th:only-of-type {\n",
       "        vertical-align: middle;\n",
       "    }\n",
       "\n",
       "    .dataframe tbody tr th {\n",
       "        vertical-align: top;\n",
       "    }\n",
       "\n",
       "    .dataframe thead th {\n",
       "        text-align: right;\n",
       "    }\n",
       "</style>\n",
       "<table border=\"1\" class=\"dataframe\">\n",
       "  <thead>\n",
       "    <tr style=\"text-align: right;\">\n",
       "      <th></th>\n",
       "      <th>countyFIPS</th>\n",
       "      <th>STATEFP</th>\n",
       "      <th>COUNTYFP</th>\n",
       "      <th>CountyName</th>\n",
       "      <th>StateName</th>\n",
       "      <th>State</th>\n",
       "      <th>lat</th>\n",
       "      <th>lon</th>\n",
       "      <th>POP_LATITUDE</th>\n",
       "      <th>POP_LONGITUDE</th>\n",
       "      <th>...</th>\n",
       "      <th>&gt;500 gatherings</th>\n",
       "      <th>public schools</th>\n",
       "      <th>restaurant dine-in</th>\n",
       "      <th>entertainment/gym</th>\n",
       "      <th>federal guidelines</th>\n",
       "      <th>foreign travel ban</th>\n",
       "      <th>SVIPercentile</th>\n",
       "      <th>HPSAShortage</th>\n",
       "      <th>HPSAServedPop</th>\n",
       "      <th>HPSAUnderservedPop</th>\n",
       "    </tr>\n",
       "  </thead>\n",
       "  <tbody>\n",
       "    <tr>\n",
       "      <th>0</th>\n",
       "      <td>01001</td>\n",
       "      <td>1.0</td>\n",
       "      <td>1.0</td>\n",
       "      <td>Autauga</td>\n",
       "      <td>AL</td>\n",
       "      <td>Alabama</td>\n",
       "      <td>32.540091</td>\n",
       "      <td>-86.645649</td>\n",
       "      <td>32.500389</td>\n",
       "      <td>-86.494165</td>\n",
       "      <td>...</td>\n",
       "      <td>737497.0</td>\n",
       "      <td>737500.0</td>\n",
       "      <td>737503.0</td>\n",
       "      <td>737512.0</td>\n",
       "      <td>737500.0</td>\n",
       "      <td>737495.0</td>\n",
       "      <td>0.4354</td>\n",
       "      <td>NaN</td>\n",
       "      <td>NaN</td>\n",
       "      <td>NaN</td>\n",
       "    </tr>\n",
       "    <tr>\n",
       "      <th>1</th>\n",
       "      <td>01003</td>\n",
       "      <td>1.0</td>\n",
       "      <td>3.0</td>\n",
       "      <td>Baldwin</td>\n",
       "      <td>AL</td>\n",
       "      <td>Alabama</td>\n",
       "      <td>30.738314</td>\n",
       "      <td>-87.726272</td>\n",
       "      <td>30.548923</td>\n",
       "      <td>-87.762381</td>\n",
       "      <td>...</td>\n",
       "      <td>737497.0</td>\n",
       "      <td>737500.0</td>\n",
       "      <td>737503.0</td>\n",
       "      <td>737512.0</td>\n",
       "      <td>737500.0</td>\n",
       "      <td>737495.0</td>\n",
       "      <td>0.2162</td>\n",
       "      <td>NaN</td>\n",
       "      <td>NaN</td>\n",
       "      <td>NaN</td>\n",
       "    </tr>\n",
       "    <tr>\n",
       "      <th>2</th>\n",
       "      <td>01005</td>\n",
       "      <td>1.0</td>\n",
       "      <td>5.0</td>\n",
       "      <td>Barbour</td>\n",
       "      <td>AL</td>\n",
       "      <td>Alabama</td>\n",
       "      <td>31.874030</td>\n",
       "      <td>-85.397327</td>\n",
       "      <td>31.844036</td>\n",
       "      <td>-85.310038</td>\n",
       "      <td>...</td>\n",
       "      <td>737497.0</td>\n",
       "      <td>737500.0</td>\n",
       "      <td>737503.0</td>\n",
       "      <td>737512.0</td>\n",
       "      <td>737500.0</td>\n",
       "      <td>737495.0</td>\n",
       "      <td>0.9959</td>\n",
       "      <td>6.08</td>\n",
       "      <td>5400.0</td>\n",
       "      <td>18241.0</td>\n",
       "    </tr>\n",
       "    <tr>\n",
       "      <th>3</th>\n",
       "      <td>01007</td>\n",
       "      <td>1.0</td>\n",
       "      <td>7.0</td>\n",
       "      <td>Bibb</td>\n",
       "      <td>AL</td>\n",
       "      <td>Alabama</td>\n",
       "      <td>32.999024</td>\n",
       "      <td>-87.125260</td>\n",
       "      <td>33.030921</td>\n",
       "      <td>-87.127659</td>\n",
       "      <td>...</td>\n",
       "      <td>737497.0</td>\n",
       "      <td>737500.0</td>\n",
       "      <td>737503.0</td>\n",
       "      <td>737512.0</td>\n",
       "      <td>737500.0</td>\n",
       "      <td>737495.0</td>\n",
       "      <td>0.6003</td>\n",
       "      <td>2.75</td>\n",
       "      <td>14980.0</td>\n",
       "      <td>6120.0</td>\n",
       "    </tr>\n",
       "    <tr>\n",
       "      <th>4</th>\n",
       "      <td>01009</td>\n",
       "      <td>1.0</td>\n",
       "      <td>9.0</td>\n",
       "      <td>Blount</td>\n",
       "      <td>AL</td>\n",
       "      <td>Alabama</td>\n",
       "      <td>33.990440</td>\n",
       "      <td>-86.562711</td>\n",
       "      <td>33.955243</td>\n",
       "      <td>-86.591491</td>\n",
       "      <td>...</td>\n",
       "      <td>737497.0</td>\n",
       "      <td>737500.0</td>\n",
       "      <td>737503.0</td>\n",
       "      <td>737512.0</td>\n",
       "      <td>737500.0</td>\n",
       "      <td>737495.0</td>\n",
       "      <td>0.4242</td>\n",
       "      <td>7.21</td>\n",
       "      <td>31850.0</td>\n",
       "      <td>25233.0</td>\n",
       "    </tr>\n",
       "  </tbody>\n",
       "</table>\n",
       "<p>5 rows × 87 columns</p>\n",
       "</div>"
      ],
      "text/plain": [
       "  countyFIPS  STATEFP  COUNTYFP CountyName StateName    State        lat  \\\n",
       "0      01001      1.0       1.0    Autauga        AL  Alabama  32.540091   \n",
       "1      01003      1.0       3.0    Baldwin        AL  Alabama  30.738314   \n",
       "2      01005      1.0       5.0    Barbour        AL  Alabama  31.874030   \n",
       "3      01007      1.0       7.0       Bibb        AL  Alabama  32.999024   \n",
       "4      01009      1.0       9.0     Blount        AL  Alabama  33.990440   \n",
       "\n",
       "         lon  POP_LATITUDE  POP_LONGITUDE  ... >500 gatherings public schools  \\\n",
       "0 -86.645649     32.500389     -86.494165  ...        737497.0       737500.0   \n",
       "1 -87.726272     30.548923     -87.762381  ...        737497.0       737500.0   \n",
       "2 -85.397327     31.844036     -85.310038  ...        737497.0       737500.0   \n",
       "3 -87.125260     33.030921     -87.127659  ...        737497.0       737500.0   \n",
       "4 -86.562711     33.955243     -86.591491  ...        737497.0       737500.0   \n",
       "\n",
       "   restaurant dine-in  entertainment/gym  federal guidelines  \\\n",
       "0            737503.0           737512.0            737500.0   \n",
       "1            737503.0           737512.0            737500.0   \n",
       "2            737503.0           737512.0            737500.0   \n",
       "3            737503.0           737512.0            737500.0   \n",
       "4            737503.0           737512.0            737500.0   \n",
       "\n",
       "   foreign travel ban  SVIPercentile  HPSAShortage  HPSAServedPop  \\\n",
       "0            737495.0         0.4354           NaN            NaN   \n",
       "1            737495.0         0.2162           NaN            NaN   \n",
       "2            737495.0         0.9959          6.08         5400.0   \n",
       "3            737495.0         0.6003          2.75        14980.0   \n",
       "4            737495.0         0.4242          7.21        31850.0   \n",
       "\n",
       "   HPSAUnderservedPop  \n",
       "0                 NaN  \n",
       "1                 NaN  \n",
       "2             18241.0  \n",
       "3              6120.0  \n",
       "4             25233.0  \n",
       "\n",
       "[5 rows x 87 columns]"
      ]
     },
     "execution_count": 3,
     "metadata": {},
     "output_type": "execute_result"
    }
   ],
   "source": [
    "# Note: data downloaded from Yu group Github on 5/7/20\n",
    "demo = pd.read_csv('data/county_data_abridged.csv')\n",
    "demo.head()"
   ]
  },
  {
   "cell_type": "code",
   "execution_count": 4,
   "metadata": {},
   "outputs": [
    {
     "data": {
      "text/html": [
       "<div>\n",
       "<style scoped>\n",
       "    .dataframe tbody tr th:only-of-type {\n",
       "        vertical-align: middle;\n",
       "    }\n",
       "\n",
       "    .dataframe tbody tr th {\n",
       "        vertical-align: top;\n",
       "    }\n",
       "\n",
       "    .dataframe thead th {\n",
       "        text-align: right;\n",
       "    }\n",
       "</style>\n",
       "<table border=\"1\" class=\"dataframe\">\n",
       "  <thead>\n",
       "    <tr style=\"text-align: right;\">\n",
       "      <th></th>\n",
       "      <th>UID</th>\n",
       "      <th>iso2</th>\n",
       "      <th>iso3</th>\n",
       "      <th>code3</th>\n",
       "      <th>FIPS</th>\n",
       "      <th>Admin2</th>\n",
       "      <th>Province_State</th>\n",
       "      <th>Country_Region</th>\n",
       "      <th>Lat</th>\n",
       "      <th>Long_</th>\n",
       "      <th>...</th>\n",
       "      <th>4/28/20</th>\n",
       "      <th>4/29/20</th>\n",
       "      <th>4/30/20</th>\n",
       "      <th>5/1/20</th>\n",
       "      <th>5/2/20</th>\n",
       "      <th>5/3/20</th>\n",
       "      <th>5/4/20</th>\n",
       "      <th>5/5/20</th>\n",
       "      <th>5/6/20</th>\n",
       "      <th>5/7/20</th>\n",
       "    </tr>\n",
       "  </thead>\n",
       "  <tbody>\n",
       "    <tr>\n",
       "      <th>0</th>\n",
       "      <td>16</td>\n",
       "      <td>AS</td>\n",
       "      <td>ASM</td>\n",
       "      <td>16</td>\n",
       "      <td>60.0</td>\n",
       "      <td>NaN</td>\n",
       "      <td>American Samoa</td>\n",
       "      <td>US</td>\n",
       "      <td>-14.271000</td>\n",
       "      <td>-170.132000</td>\n",
       "      <td>...</td>\n",
       "      <td>0</td>\n",
       "      <td>0</td>\n",
       "      <td>0</td>\n",
       "      <td>0</td>\n",
       "      <td>0</td>\n",
       "      <td>0</td>\n",
       "      <td>0</td>\n",
       "      <td>0</td>\n",
       "      <td>0</td>\n",
       "      <td>0</td>\n",
       "    </tr>\n",
       "    <tr>\n",
       "      <th>1</th>\n",
       "      <td>316</td>\n",
       "      <td>GU</td>\n",
       "      <td>GUM</td>\n",
       "      <td>316</td>\n",
       "      <td>66.0</td>\n",
       "      <td>NaN</td>\n",
       "      <td>Guam</td>\n",
       "      <td>US</td>\n",
       "      <td>13.444300</td>\n",
       "      <td>144.793700</td>\n",
       "      <td>...</td>\n",
       "      <td>141</td>\n",
       "      <td>141</td>\n",
       "      <td>145</td>\n",
       "      <td>145</td>\n",
       "      <td>145</td>\n",
       "      <td>145</td>\n",
       "      <td>145</td>\n",
       "      <td>145</td>\n",
       "      <td>149</td>\n",
       "      <td>149</td>\n",
       "    </tr>\n",
       "    <tr>\n",
       "      <th>2</th>\n",
       "      <td>580</td>\n",
       "      <td>MP</td>\n",
       "      <td>MNP</td>\n",
       "      <td>580</td>\n",
       "      <td>69.0</td>\n",
       "      <td>NaN</td>\n",
       "      <td>Northern Mariana Islands</td>\n",
       "      <td>US</td>\n",
       "      <td>15.097900</td>\n",
       "      <td>145.673900</td>\n",
       "      <td>...</td>\n",
       "      <td>14</td>\n",
       "      <td>14</td>\n",
       "      <td>14</td>\n",
       "      <td>14</td>\n",
       "      <td>14</td>\n",
       "      <td>14</td>\n",
       "      <td>14</td>\n",
       "      <td>14</td>\n",
       "      <td>15</td>\n",
       "      <td>15</td>\n",
       "    </tr>\n",
       "    <tr>\n",
       "      <th>3</th>\n",
       "      <td>630</td>\n",
       "      <td>PR</td>\n",
       "      <td>PRI</td>\n",
       "      <td>630</td>\n",
       "      <td>72.0</td>\n",
       "      <td>NaN</td>\n",
       "      <td>Puerto Rico</td>\n",
       "      <td>US</td>\n",
       "      <td>18.220800</td>\n",
       "      <td>-66.590100</td>\n",
       "      <td>...</td>\n",
       "      <td>1400</td>\n",
       "      <td>1433</td>\n",
       "      <td>1539</td>\n",
       "      <td>1575</td>\n",
       "      <td>1757</td>\n",
       "      <td>1808</td>\n",
       "      <td>1843</td>\n",
       "      <td>1924</td>\n",
       "      <td>1968</td>\n",
       "      <td>2031</td>\n",
       "    </tr>\n",
       "    <tr>\n",
       "      <th>4</th>\n",
       "      <td>850</td>\n",
       "      <td>VI</td>\n",
       "      <td>VIR</td>\n",
       "      <td>850</td>\n",
       "      <td>78.0</td>\n",
       "      <td>NaN</td>\n",
       "      <td>Virgin Islands</td>\n",
       "      <td>US</td>\n",
       "      <td>18.335800</td>\n",
       "      <td>-64.896300</td>\n",
       "      <td>...</td>\n",
       "      <td>57</td>\n",
       "      <td>57</td>\n",
       "      <td>66</td>\n",
       "      <td>66</td>\n",
       "      <td>66</td>\n",
       "      <td>66</td>\n",
       "      <td>66</td>\n",
       "      <td>66</td>\n",
       "      <td>66</td>\n",
       "      <td>66</td>\n",
       "    </tr>\n",
       "    <tr>\n",
       "      <th>5</th>\n",
       "      <td>84001001</td>\n",
       "      <td>US</td>\n",
       "      <td>USA</td>\n",
       "      <td>840</td>\n",
       "      <td>1001.0</td>\n",
       "      <td>Autauga</td>\n",
       "      <td>Alabama</td>\n",
       "      <td>US</td>\n",
       "      <td>32.539527</td>\n",
       "      <td>-86.644082</td>\n",
       "      <td>...</td>\n",
       "      <td>40</td>\n",
       "      <td>43</td>\n",
       "      <td>44</td>\n",
       "      <td>42</td>\n",
       "      <td>45</td>\n",
       "      <td>48</td>\n",
       "      <td>53</td>\n",
       "      <td>53</td>\n",
       "      <td>58</td>\n",
       "      <td>61</td>\n",
       "    </tr>\n",
       "    <tr>\n",
       "      <th>6</th>\n",
       "      <td>84001003</td>\n",
       "      <td>US</td>\n",
       "      <td>USA</td>\n",
       "      <td>840</td>\n",
       "      <td>1003.0</td>\n",
       "      <td>Baldwin</td>\n",
       "      <td>Alabama</td>\n",
       "      <td>US</td>\n",
       "      <td>30.727750</td>\n",
       "      <td>-87.722071</td>\n",
       "      <td>...</td>\n",
       "      <td>171</td>\n",
       "      <td>174</td>\n",
       "      <td>174</td>\n",
       "      <td>175</td>\n",
       "      <td>181</td>\n",
       "      <td>187</td>\n",
       "      <td>188</td>\n",
       "      <td>189</td>\n",
       "      <td>196</td>\n",
       "      <td>205</td>\n",
       "    </tr>\n",
       "    <tr>\n",
       "      <th>7</th>\n",
       "      <td>84001005</td>\n",
       "      <td>US</td>\n",
       "      <td>USA</td>\n",
       "      <td>840</td>\n",
       "      <td>1005.0</td>\n",
       "      <td>Barbour</td>\n",
       "      <td>Alabama</td>\n",
       "      <td>US</td>\n",
       "      <td>31.868263</td>\n",
       "      <td>-85.387129</td>\n",
       "      <td>...</td>\n",
       "      <td>37</td>\n",
       "      <td>37</td>\n",
       "      <td>39</td>\n",
       "      <td>42</td>\n",
       "      <td>43</td>\n",
       "      <td>45</td>\n",
       "      <td>45</td>\n",
       "      <td>47</td>\n",
       "      <td>47</td>\n",
       "      <td>51</td>\n",
       "    </tr>\n",
       "    <tr>\n",
       "      <th>8</th>\n",
       "      <td>84001007</td>\n",
       "      <td>US</td>\n",
       "      <td>USA</td>\n",
       "      <td>840</td>\n",
       "      <td>1007.0</td>\n",
       "      <td>Bibb</td>\n",
       "      <td>Alabama</td>\n",
       "      <td>US</td>\n",
       "      <td>32.996421</td>\n",
       "      <td>-87.125115</td>\n",
       "      <td>...</td>\n",
       "      <td>42</td>\n",
       "      <td>42</td>\n",
       "      <td>42</td>\n",
       "      <td>42</td>\n",
       "      <td>42</td>\n",
       "      <td>43</td>\n",
       "      <td>42</td>\n",
       "      <td>43</td>\n",
       "      <td>43</td>\n",
       "      <td>44</td>\n",
       "    </tr>\n",
       "    <tr>\n",
       "      <th>9</th>\n",
       "      <td>84001009</td>\n",
       "      <td>US</td>\n",
       "      <td>USA</td>\n",
       "      <td>840</td>\n",
       "      <td>1009.0</td>\n",
       "      <td>Blount</td>\n",
       "      <td>Alabama</td>\n",
       "      <td>US</td>\n",
       "      <td>33.982109</td>\n",
       "      <td>-86.567906</td>\n",
       "      <td>...</td>\n",
       "      <td>34</td>\n",
       "      <td>36</td>\n",
       "      <td>37</td>\n",
       "      <td>39</td>\n",
       "      <td>40</td>\n",
       "      <td>40</td>\n",
       "      <td>40</td>\n",
       "      <td>40</td>\n",
       "      <td>42</td>\n",
       "      <td>44</td>\n",
       "    </tr>\n",
       "  </tbody>\n",
       "</table>\n",
       "<p>10 rows × 118 columns</p>\n",
       "</div>"
      ],
      "text/plain": [
       "        UID iso2 iso3  code3    FIPS   Admin2            Province_State  \\\n",
       "0        16   AS  ASM     16    60.0      NaN            American Samoa   \n",
       "1       316   GU  GUM    316    66.0      NaN                      Guam   \n",
       "2       580   MP  MNP    580    69.0      NaN  Northern Mariana Islands   \n",
       "3       630   PR  PRI    630    72.0      NaN               Puerto Rico   \n",
       "4       850   VI  VIR    850    78.0      NaN            Virgin Islands   \n",
       "5  84001001   US  USA    840  1001.0  Autauga                   Alabama   \n",
       "6  84001003   US  USA    840  1003.0  Baldwin                   Alabama   \n",
       "7  84001005   US  USA    840  1005.0  Barbour                   Alabama   \n",
       "8  84001007   US  USA    840  1007.0     Bibb                   Alabama   \n",
       "9  84001009   US  USA    840  1009.0   Blount                   Alabama   \n",
       "\n",
       "  Country_Region        Lat       Long_  ... 4/28/20  4/29/20  4/30/20  \\\n",
       "0             US -14.271000 -170.132000  ...       0        0        0   \n",
       "1             US  13.444300  144.793700  ...     141      141      145   \n",
       "2             US  15.097900  145.673900  ...      14       14       14   \n",
       "3             US  18.220800  -66.590100  ...    1400     1433     1539   \n",
       "4             US  18.335800  -64.896300  ...      57       57       66   \n",
       "5             US  32.539527  -86.644082  ...      40       43       44   \n",
       "6             US  30.727750  -87.722071  ...     171      174      174   \n",
       "7             US  31.868263  -85.387129  ...      37       37       39   \n",
       "8             US  32.996421  -87.125115  ...      42       42       42   \n",
       "9             US  33.982109  -86.567906  ...      34       36       37   \n",
       "\n",
       "   5/1/20  5/2/20  5/3/20  5/4/20  5/5/20  5/6/20  5/7/20  \n",
       "0       0       0       0       0       0       0       0  \n",
       "1     145     145     145     145     145     149     149  \n",
       "2      14      14      14      14      14      15      15  \n",
       "3    1575    1757    1808    1843    1924    1968    2031  \n",
       "4      66      66      66      66      66      66      66  \n",
       "5      42      45      48      53      53      58      61  \n",
       "6     175     181     187     188     189     196     205  \n",
       "7      42      43      45      45      47      47      51  \n",
       "8      42      42      43      42      43      43      44  \n",
       "9      39      40      40      40      40      42      44  \n",
       "\n",
       "[10 rows x 118 columns]"
      ]
     },
     "execution_count": 4,
     "metadata": {},
     "output_type": "execute_result"
    }
   ],
   "source": [
    "# Note: data downloaded from CSSE Github on 5/7/20\n",
    "cases = pd.read_csv('data/time_series_covid19_confirmed_US.csv')\n",
    "cases.head(10)"
   ]
  },
  {
   "cell_type": "code",
   "execution_count": 5,
   "metadata": {},
   "outputs": [
    {
     "data": {
      "text/plain": [
       "(3244, 87)"
      ]
     },
     "execution_count": 5,
     "metadata": {},
     "output_type": "execute_result"
    }
   ],
   "source": [
    "demo.shape"
   ]
  },
  {
   "cell_type": "code",
   "execution_count": 6,
   "metadata": {},
   "outputs": [
    {
     "data": {
      "text/plain": [
       "Index(['countyFIPS', 'STATEFP', 'COUNTYFP', 'CountyName', 'StateName', 'State',\n",
       "       'lat', 'lon', 'POP_LATITUDE', 'POP_LONGITUDE', 'CensusRegionName',\n",
       "       'CensusDivisionName', 'Rural-UrbanContinuumCode2013',\n",
       "       'PopulationEstimate2018', 'PopTotalMale2017', 'PopTotalFemale2017',\n",
       "       'FracMale2017', 'PopulationEstimate65+2017',\n",
       "       'PopulationDensityperSqMile2010', 'CensusPopulation2010',\n",
       "       'MedianAge2010', '#EligibleforMedicare2018',\n",
       "       'MedicareEnrollment,AgedTot2017', '3-YrDiabetes2015-17',\n",
       "       'DiabetesPercentage', 'HeartDiseaseMortality', 'StrokeMortality',\n",
       "       'Smokers_Percentage', 'RespMortalityRate2014', '#FTEHospitalTotal2017',\n",
       "       'TotalM.D.'s,TotNon-FedandFed2017', '#HospParticipatinginNetwork2017',\n",
       "       '#Hospitals', '#ICU_beds', 'dem_to_rep_ratio', 'PopMale<52010',\n",
       "       'PopFmle<52010', 'PopMale5-92010', 'PopFmle5-92010', 'PopMale10-142010',\n",
       "       'PopFmle10-142010', 'PopMale15-192010', 'PopFmle15-192010',\n",
       "       'PopMale20-242010', 'PopFmle20-242010', 'PopMale25-292010',\n",
       "       'PopFmle25-292010', 'PopMale30-342010', 'PopFmle30-342010',\n",
       "       'PopMale35-442010', 'PopFmle35-442010', 'PopMale45-542010',\n",
       "       'PopFmle45-542010', 'PopMale55-592010', 'PopFmle55-592010',\n",
       "       'PopMale60-642010', 'PopFmle60-642010', 'PopMale65-742010',\n",
       "       'PopFmle65-742010', 'PopMale75-842010', 'PopFmle75-842010',\n",
       "       'PopMale>842010', 'PopFmle>842010', '3-YrMortalityAge<1Year2015-17',\n",
       "       '3-YrMortalityAge1-4Years2015-17', '3-YrMortalityAge5-14Years2015-17',\n",
       "       '3-YrMortalityAge15-24Years2015-17',\n",
       "       '3-YrMortalityAge25-34Years2015-17',\n",
       "       '3-YrMortalityAge35-44Years2015-17',\n",
       "       '3-YrMortalityAge45-54Years2015-17',\n",
       "       '3-YrMortalityAge55-64Years2015-17',\n",
       "       '3-YrMortalityAge65-74Years2015-17',\n",
       "       '3-YrMortalityAge75-84Years2015-17', '3-YrMortalityAge85+Years2015-17',\n",
       "       'mortality2015-17Estimated', 'stay at home', '>50 gatherings',\n",
       "       '>500 gatherings', 'public schools', 'restaurant dine-in',\n",
       "       'entertainment/gym', 'federal guidelines', 'foreign travel ban',\n",
       "       'SVIPercentile', 'HPSAShortage', 'HPSAServedPop', 'HPSAUnderservedPop'],\n",
       "      dtype='object')"
      ]
     },
     "execution_count": 6,
     "metadata": {},
     "output_type": "execute_result"
    }
   ],
   "source": [
    "demo.columns"
   ]
  },
  {
   "cell_type": "code",
   "execution_count": 7,
   "metadata": {},
   "outputs": [
    {
     "data": {
      "text/plain": [
       "countyFIPS                        0\n",
       "STATEFP                          23\n",
       "COUNTYFP                         23\n",
       "CountyName                        0\n",
       "StateName                         0\n",
       "State                           169\n",
       "lat                             169\n",
       "lon                             169\n",
       "POP_LATITUDE                     23\n",
       "POP_LONGITUDE                    23\n",
       "CensusRegionName                 98\n",
       "CensusDivisionName               98\n",
       "Rural-UrbanContinuumCode2013     24\n",
       "PopulationEstimate2018           23\n",
       "dtype: int64"
      ]
     },
     "execution_count": 7,
     "metadata": {},
     "output_type": "execute_result"
    }
   ],
   "source": [
    "demo.iloc[:, :14].isna().sum()"
   ]
  },
  {
   "cell_type": "code",
   "execution_count": 8,
   "metadata": {},
   "outputs": [
    {
     "data": {
      "text/plain": [
       "UID                0\n",
       "iso2               0\n",
       "iso3               0\n",
       "code3              0\n",
       "FIPS              10\n",
       "Admin2             7\n",
       "Province_State     0\n",
       "Country_Region     0\n",
       "Lat                0\n",
       "Long_              0\n",
       "Combined_Key       0\n",
       "1/22/20            0\n",
       "1/23/20            0\n",
       "1/24/20            0\n",
       "dtype: int64"
      ]
     },
     "execution_count": 8,
     "metadata": {},
     "output_type": "execute_result"
    }
   ],
   "source": [
    "cases.iloc[:, :14].isna().sum()"
   ]
  },
  {
   "cell_type": "code",
   "execution_count": 9,
   "metadata": {},
   "outputs": [],
   "source": [
    "cases['FIPS'] = cases['FIPS'].fillna(-1).astype(int)"
   ]
  },
  {
   "cell_type": "code",
   "execution_count": 10,
   "metadata": {},
   "outputs": [
    {
     "data": {
      "text/plain": [
       "True     3242\n",
       "False       2\n",
       "Name: countyFIPS, dtype: int64"
      ]
     },
     "execution_count": 10,
     "metadata": {},
     "output_type": "execute_result"
    }
   ],
   "source": [
    "demo['countyFIPS'].str.isnumeric().value_counts()"
   ]
  },
  {
   "cell_type": "code",
   "execution_count": 11,
   "metadata": {},
   "outputs": [
    {
     "data": {
      "text/html": [
       "<div>\n",
       "<style scoped>\n",
       "    .dataframe tbody tr th:only-of-type {\n",
       "        vertical-align: middle;\n",
       "    }\n",
       "\n",
       "    .dataframe tbody tr th {\n",
       "        vertical-align: top;\n",
       "    }\n",
       "\n",
       "    .dataframe thead th {\n",
       "        text-align: right;\n",
       "    }\n",
       "</style>\n",
       "<table border=\"1\" class=\"dataframe\">\n",
       "  <thead>\n",
       "    <tr style=\"text-align: right;\">\n",
       "      <th></th>\n",
       "      <th>countyFIPS</th>\n",
       "      <th>STATEFP</th>\n",
       "      <th>COUNTYFP</th>\n",
       "      <th>CountyName</th>\n",
       "      <th>StateName</th>\n",
       "      <th>State</th>\n",
       "      <th>lat</th>\n",
       "      <th>lon</th>\n",
       "      <th>POP_LATITUDE</th>\n",
       "      <th>POP_LONGITUDE</th>\n",
       "      <th>...</th>\n",
       "      <th>&gt;500 gatherings</th>\n",
       "      <th>public schools</th>\n",
       "      <th>restaurant dine-in</th>\n",
       "      <th>entertainment/gym</th>\n",
       "      <th>federal guidelines</th>\n",
       "      <th>foreign travel ban</th>\n",
       "      <th>SVIPercentile</th>\n",
       "      <th>HPSAShortage</th>\n",
       "      <th>HPSAServedPop</th>\n",
       "      <th>HPSAUnderservedPop</th>\n",
       "    </tr>\n",
       "  </thead>\n",
       "  <tbody>\n",
       "    <tr>\n",
       "      <th>3242</th>\n",
       "      <td>City1</td>\n",
       "      <td>NaN</td>\n",
       "      <td>NaN</td>\n",
       "      <td>New York City</td>\n",
       "      <td>NY</td>\n",
       "      <td>NaN</td>\n",
       "      <td>NaN</td>\n",
       "      <td>NaN</td>\n",
       "      <td>NaN</td>\n",
       "      <td>NaN</td>\n",
       "      <td>...</td>\n",
       "      <td>NaN</td>\n",
       "      <td>NaN</td>\n",
       "      <td>NaN</td>\n",
       "      <td>NaN</td>\n",
       "      <td>NaN</td>\n",
       "      <td>NaN</td>\n",
       "      <td>NaN</td>\n",
       "      <td>NaN</td>\n",
       "      <td>NaN</td>\n",
       "      <td>NaN</td>\n",
       "    </tr>\n",
       "    <tr>\n",
       "      <th>3243</th>\n",
       "      <td>City2</td>\n",
       "      <td>NaN</td>\n",
       "      <td>NaN</td>\n",
       "      <td>Kansas City</td>\n",
       "      <td>MO</td>\n",
       "      <td>NaN</td>\n",
       "      <td>NaN</td>\n",
       "      <td>NaN</td>\n",
       "      <td>NaN</td>\n",
       "      <td>NaN</td>\n",
       "      <td>...</td>\n",
       "      <td>NaN</td>\n",
       "      <td>NaN</td>\n",
       "      <td>NaN</td>\n",
       "      <td>NaN</td>\n",
       "      <td>NaN</td>\n",
       "      <td>NaN</td>\n",
       "      <td>NaN</td>\n",
       "      <td>NaN</td>\n",
       "      <td>NaN</td>\n",
       "      <td>NaN</td>\n",
       "    </tr>\n",
       "  </tbody>\n",
       "</table>\n",
       "<p>2 rows × 87 columns</p>\n",
       "</div>"
      ],
      "text/plain": [
       "     countyFIPS  STATEFP  COUNTYFP     CountyName StateName State  lat  lon  \\\n",
       "3242      City1      NaN       NaN  New York City        NY   NaN  NaN  NaN   \n",
       "3243      City2      NaN       NaN    Kansas City        MO   NaN  NaN  NaN   \n",
       "\n",
       "      POP_LATITUDE  POP_LONGITUDE  ... >500 gatherings public schools  \\\n",
       "3242           NaN            NaN  ...             NaN            NaN   \n",
       "3243           NaN            NaN  ...             NaN            NaN   \n",
       "\n",
       "      restaurant dine-in  entertainment/gym  federal guidelines  \\\n",
       "3242                 NaN                NaN                 NaN   \n",
       "3243                 NaN                NaN                 NaN   \n",
       "\n",
       "      foreign travel ban  SVIPercentile  HPSAShortage  HPSAServedPop  \\\n",
       "3242                 NaN            NaN           NaN            NaN   \n",
       "3243                 NaN            NaN           NaN            NaN   \n",
       "\n",
       "      HPSAUnderservedPop  \n",
       "3242                 NaN  \n",
       "3243                 NaN  \n",
       "\n",
       "[2 rows x 87 columns]"
      ]
     },
     "execution_count": 11,
     "metadata": {},
     "output_type": "execute_result"
    }
   ],
   "source": [
    "demo.iloc[-2:]"
   ]
  },
  {
   "cell_type": "code",
   "execution_count": 12,
   "metadata": {},
   "outputs": [
    {
     "data": {
      "text/plain": [
       "True    3242\n",
       "Name: countyFIPS, dtype: int64"
      ]
     },
     "execution_count": 12,
     "metadata": {},
     "output_type": "execute_result"
    }
   ],
   "source": [
    "# since there appears to be no info for these 2 rows, we will drop them\n",
    "demo = demo.iloc[:-2]\n",
    "demo['countyFIPS'].str.isnumeric().value_counts()"
   ]
  },
  {
   "cell_type": "code",
   "execution_count": 13,
   "metadata": {},
   "outputs": [],
   "source": [
    "demo['FIPS'] = demo['countyFIPS'].astype(int)"
   ]
  },
  {
   "cell_type": "code",
   "execution_count": 14,
   "metadata": {},
   "outputs": [],
   "source": [
    "# now we can merge demo data with ts data on FIPS\n",
    "cases = cases.merge(demo, on = 'FIPS')"
   ]
  },
  {
   "cell_type": "code",
   "execution_count": 15,
   "metadata": {},
   "outputs": [
    {
     "data": {
      "text/html": [
       "<div>\n",
       "<style scoped>\n",
       "    .dataframe tbody tr th:only-of-type {\n",
       "        vertical-align: middle;\n",
       "    }\n",
       "\n",
       "    .dataframe tbody tr th {\n",
       "        vertical-align: top;\n",
       "    }\n",
       "\n",
       "    .dataframe thead th {\n",
       "        text-align: right;\n",
       "    }\n",
       "</style>\n",
       "<table border=\"1\" class=\"dataframe\">\n",
       "  <thead>\n",
       "    <tr style=\"text-align: right;\">\n",
       "      <th></th>\n",
       "      <th>FIPS</th>\n",
       "      <th>State</th>\n",
       "      <th>Area_name</th>\n",
       "      <th>Rural_urban_continuum_code_2013</th>\n",
       "      <th>Urban_influence_code_2013</th>\n",
       "      <th>Metro_2013</th>\n",
       "      <th>Civilian_labor_force_2007</th>\n",
       "      <th>Employed_2007</th>\n",
       "      <th>Unemployed_2007</th>\n",
       "      <th>Unemployment_rate_2007</th>\n",
       "      <th>...</th>\n",
       "      <th>Civilian_labor_force_2017</th>\n",
       "      <th>Employed_2017</th>\n",
       "      <th>Unemployed_2017</th>\n",
       "      <th>Unemployment_rate_2017</th>\n",
       "      <th>Civilian_labor_force_2018</th>\n",
       "      <th>Employed_2018</th>\n",
       "      <th>Unemployed_2018</th>\n",
       "      <th>Unemployment_rate_2018</th>\n",
       "      <th>Median_Household_Income_2018</th>\n",
       "      <th>Med_HH_Income_Percent_of_State_Total_2018</th>\n",
       "    </tr>\n",
       "  </thead>\n",
       "  <tbody>\n",
       "    <tr>\n",
       "      <th>0</th>\n",
       "      <td>0</td>\n",
       "      <td>US</td>\n",
       "      <td>United States</td>\n",
       "      <td>NaN</td>\n",
       "      <td>NaN</td>\n",
       "      <td>NaN</td>\n",
       "      <td>152191093.0</td>\n",
       "      <td>145156134.0</td>\n",
       "      <td>7034959.0</td>\n",
       "      <td>4.6</td>\n",
       "      <td>...</td>\n",
       "      <td>160273906.0</td>\n",
       "      <td>153293830.0</td>\n",
       "      <td>6980076.0</td>\n",
       "      <td>4.36</td>\n",
       "      <td>161640488.0</td>\n",
       "      <td>155344043.0</td>\n",
       "      <td>6296445.0</td>\n",
       "      <td>3.9</td>\n",
       "      <td>61937.0</td>\n",
       "      <td>NaN</td>\n",
       "    </tr>\n",
       "    <tr>\n",
       "      <th>1</th>\n",
       "      <td>1000</td>\n",
       "      <td>AL</td>\n",
       "      <td>Alabama</td>\n",
       "      <td>NaN</td>\n",
       "      <td>NaN</td>\n",
       "      <td>NaN</td>\n",
       "      <td>2175612.0</td>\n",
       "      <td>2089127.0</td>\n",
       "      <td>86485.0</td>\n",
       "      <td>4.0</td>\n",
       "      <td>...</td>\n",
       "      <td>2178243.0</td>\n",
       "      <td>2081676.0</td>\n",
       "      <td>96567.0</td>\n",
       "      <td>4.40</td>\n",
       "      <td>2198837.0</td>\n",
       "      <td>2112347.0</td>\n",
       "      <td>86490.0</td>\n",
       "      <td>3.9</td>\n",
       "      <td>49881.0</td>\n",
       "      <td>100.0000</td>\n",
       "    </tr>\n",
       "    <tr>\n",
       "      <th>2</th>\n",
       "      <td>1001</td>\n",
       "      <td>AL</td>\n",
       "      <td>Autauga County, AL</td>\n",
       "      <td>2.0</td>\n",
       "      <td>2.0</td>\n",
       "      <td>1.0</td>\n",
       "      <td>24383.0</td>\n",
       "      <td>23577.0</td>\n",
       "      <td>806.0</td>\n",
       "      <td>3.3</td>\n",
       "      <td>...</td>\n",
       "      <td>25972.0</td>\n",
       "      <td>24958.0</td>\n",
       "      <td>1014.0</td>\n",
       "      <td>3.90</td>\n",
       "      <td>25957.0</td>\n",
       "      <td>25015.0</td>\n",
       "      <td>942.0</td>\n",
       "      <td>3.6</td>\n",
       "      <td>59338.0</td>\n",
       "      <td>118.9591</td>\n",
       "    </tr>\n",
       "    <tr>\n",
       "      <th>3</th>\n",
       "      <td>1003</td>\n",
       "      <td>AL</td>\n",
       "      <td>Baldwin County, AL</td>\n",
       "      <td>3.0</td>\n",
       "      <td>2.0</td>\n",
       "      <td>1.0</td>\n",
       "      <td>82659.0</td>\n",
       "      <td>80099.0</td>\n",
       "      <td>2560.0</td>\n",
       "      <td>3.1</td>\n",
       "      <td>...</td>\n",
       "      <td>92090.0</td>\n",
       "      <td>88342.0</td>\n",
       "      <td>3748.0</td>\n",
       "      <td>4.10</td>\n",
       "      <td>93849.0</td>\n",
       "      <td>90456.0</td>\n",
       "      <td>3393.0</td>\n",
       "      <td>3.6</td>\n",
       "      <td>57588.0</td>\n",
       "      <td>115.4508</td>\n",
       "    </tr>\n",
       "    <tr>\n",
       "      <th>4</th>\n",
       "      <td>1005</td>\n",
       "      <td>AL</td>\n",
       "      <td>Barbour County, AL</td>\n",
       "      <td>6.0</td>\n",
       "      <td>6.0</td>\n",
       "      <td>0.0</td>\n",
       "      <td>10334.0</td>\n",
       "      <td>9684.0</td>\n",
       "      <td>650.0</td>\n",
       "      <td>6.3</td>\n",
       "      <td>...</td>\n",
       "      <td>8317.0</td>\n",
       "      <td>7831.0</td>\n",
       "      <td>486.0</td>\n",
       "      <td>5.80</td>\n",
       "      <td>8373.0</td>\n",
       "      <td>7940.0</td>\n",
       "      <td>433.0</td>\n",
       "      <td>5.2</td>\n",
       "      <td>34382.0</td>\n",
       "      <td>68.9280</td>\n",
       "    </tr>\n",
       "  </tbody>\n",
       "</table>\n",
       "<p>5 rows × 56 columns</p>\n",
       "</div>"
      ],
      "text/plain": [
       "   FIPS State           Area_name  Rural_urban_continuum_code_2013  \\\n",
       "0     0    US       United States                              NaN   \n",
       "1  1000    AL             Alabama                              NaN   \n",
       "2  1001    AL  Autauga County, AL                              2.0   \n",
       "3  1003    AL  Baldwin County, AL                              3.0   \n",
       "4  1005    AL  Barbour County, AL                              6.0   \n",
       "\n",
       "   Urban_influence_code_2013  Metro_2013  Civilian_labor_force_2007  \\\n",
       "0                        NaN         NaN                152191093.0   \n",
       "1                        NaN         NaN                  2175612.0   \n",
       "2                        2.0         1.0                    24383.0   \n",
       "3                        2.0         1.0                    82659.0   \n",
       "4                        6.0         0.0                    10334.0   \n",
       "\n",
       "   Employed_2007  Unemployed_2007  Unemployment_rate_2007  ...  \\\n",
       "0    145156134.0        7034959.0                     4.6  ...   \n",
       "1      2089127.0          86485.0                     4.0  ...   \n",
       "2        23577.0            806.0                     3.3  ...   \n",
       "3        80099.0           2560.0                     3.1  ...   \n",
       "4         9684.0            650.0                     6.3  ...   \n",
       "\n",
       "   Civilian_labor_force_2017  Employed_2017  Unemployed_2017  \\\n",
       "0                160273906.0    153293830.0        6980076.0   \n",
       "1                  2178243.0      2081676.0          96567.0   \n",
       "2                    25972.0        24958.0           1014.0   \n",
       "3                    92090.0        88342.0           3748.0   \n",
       "4                     8317.0         7831.0            486.0   \n",
       "\n",
       "   Unemployment_rate_2017  Civilian_labor_force_2018  Employed_2018  \\\n",
       "0                    4.36                161640488.0    155344043.0   \n",
       "1                    4.40                  2198837.0      2112347.0   \n",
       "2                    3.90                    25957.0        25015.0   \n",
       "3                    4.10                    93849.0        90456.0   \n",
       "4                    5.80                     8373.0         7940.0   \n",
       "\n",
       "   Unemployed_2018  Unemployment_rate_2018  Median_Household_Income_2018  \\\n",
       "0        6296445.0                     3.9                       61937.0   \n",
       "1          86490.0                     3.9                       49881.0   \n",
       "2            942.0                     3.6                       59338.0   \n",
       "3           3393.0                     3.6                       57588.0   \n",
       "4            433.0                     5.2                       34382.0   \n",
       "\n",
       "   Med_HH_Income_Percent_of_State_Total_2018  \n",
       "0                                        NaN  \n",
       "1                                   100.0000  \n",
       "2                                   118.9591  \n",
       "3                                   115.4508  \n",
       "4                                    68.9280  \n",
       "\n",
       "[5 rows x 56 columns]"
      ]
     },
     "execution_count": 15,
     "metadata": {},
     "output_type": "execute_result"
    }
   ],
   "source": [
    "income = pd.read_excel('data/Unemployment.xls', header = 4)\n",
    "income.head()"
   ]
  },
  {
   "cell_type": "code",
   "execution_count": 16,
   "metadata": {},
   "outputs": [],
   "source": [
    "income = income[['FIPS', 'Median_Household_Income_2018']]\n",
    "income['FIPS'] = income['FIPS'].astype(int)\n",
    "cases = cases.merge(income, on = 'FIPS')"
   ]
  },
  {
   "cell_type": "markdown",
   "metadata": {},
   "source": [
    "## Predicting number of cases"
   ]
  },
  {
   "cell_type": "code",
   "execution_count": 17,
   "metadata": {},
   "outputs": [
    {
     "data": {
      "text/plain": [
       "NaN         489\n",
       "737514.0    360\n",
       "737508.0    315\n",
       "737517.0    258\n",
       "737507.0    245\n",
       "737518.0    212\n",
       "737521.0    184\n",
       "737510.0    177\n",
       "737509.0    146\n",
       "737505.0    124\n",
       "737512.0    114\n",
       "737511.0    109\n",
       "737515.0    109\n",
       "737519.0     66\n",
       "737506.0     64\n",
       "737516.0     63\n",
       "737503.0     58\n",
       "737522.0     46\n",
       "Name: stay at home, dtype: int64"
      ]
     },
     "execution_count": 17,
     "metadata": {},
     "output_type": "execute_result"
    }
   ],
   "source": [
    "cases['stay at home'].value_counts(dropna = False)"
   ]
  },
  {
   "cell_type": "code",
   "execution_count": 18,
   "metadata": {},
   "outputs": [],
   "source": [
    "# we set null values for stay at home order dates to the current date (that way time elapsed since order will be 0)\n",
    "#filtered_cases['stay at home'] = filtered_cases['stay at home'].fillna(737551).astype(int).apply(pd.Timestamp.fromordinal)"
   ]
  },
  {
   "cell_type": "code",
   "execution_count": 19,
   "metadata": {},
   "outputs": [],
   "source": [
    "measures = ['stay at home', '>50 gatherings', 'public schools', 'restaurant dine-in', \n",
    "            'entertainment/gym', 'federal guidelines']\n",
    "for measure in measures:\n",
    "    cases[measure] = cases[measure].fillna(737551).astype(int).apply(pd.Timestamp.fromordinal)"
   ]
  },
  {
   "cell_type": "code",
   "execution_count": 20,
   "metadata": {},
   "outputs": [],
   "source": [
    "cur_date = pd.Timestamp('5/6/20')\n",
    "for measure in measures:\n",
    "    cases[f'days since {measure}'] = cases[measure].apply(lambda x : (cur_date - x).days)"
   ]
  },
  {
   "cell_type": "code",
   "execution_count": 21,
   "metadata": {},
   "outputs": [
    {
     "data": {
      "text/plain": [
       "0     489\n",
       "37    360\n",
       "43    315\n",
       "34    258\n",
       "44    245\n",
       "33    212\n",
       "30    184\n",
       "41    177\n",
       "42    146\n",
       "46    124\n",
       "39    114\n",
       "40    109\n",
       "36    109\n",
       "32     66\n",
       "45     64\n",
       "35     63\n",
       "48     58\n",
       "29     46\n",
       "Name: days since stay at home, dtype: int64"
      ]
     },
     "execution_count": 21,
     "metadata": {},
     "output_type": "execute_result"
    }
   ],
   "source": [
    "cases['days since stay at home'].value_counts()"
   ]
  },
  {
   "cell_type": "code",
   "execution_count": 22,
   "metadata": {},
   "outputs": [],
   "source": [
    "def rmse(pred, real):\n",
    "    return np.sqrt(np.mean(np.square(pred - real)))"
   ]
  },
  {
   "cell_type": "code",
   "execution_count": 23,
   "metadata": {},
   "outputs": [],
   "source": [
    "X = cases.loc[:, '4/25/20': '5/5/20']\n",
    "y = cases.loc[:, '5/6/20']"
   ]
  },
  {
   "cell_type": "code",
   "execution_count": 24,
   "metadata": {},
   "outputs": [],
   "source": [
    "from sklearn.model_selection import train_test_split\n",
    "X_train, X_test, y_train, y_test = train_test_split(X, y, test_size = .2, random_state = 99)"
   ]
  },
  {
   "cell_type": "code",
   "execution_count": 25,
   "metadata": {},
   "outputs": [
    {
     "data": {
      "text/plain": [
       "LinearRegression(copy_X=True, fit_intercept=True, n_jobs=None, normalize=False)"
      ]
     },
     "execution_count": 25,
     "metadata": {},
     "output_type": "execute_result"
    }
   ],
   "source": [
    "from sklearn.linear_model import LinearRegression\n",
    "lr = LinearRegression()\n",
    "lr.fit(X_train, y_train)"
   ]
  },
  {
   "cell_type": "code",
   "execution_count": 26,
   "metadata": {},
   "outputs": [
    {
     "data": {
      "text/plain": [
       "19.157097343740517"
      ]
     },
     "execution_count": 26,
     "metadata": {},
     "output_type": "execute_result"
    }
   ],
   "source": [
    "rmse(lr.predict(X_test), y_test)"
   ]
  },
  {
   "cell_type": "code",
   "execution_count": 27,
   "metadata": {},
   "outputs": [
    {
     "data": {
      "text/plain": [
       "[<matplotlib.lines.Line2D at 0x1a220db950>]"
      ]
     },
     "execution_count": 27,
     "metadata": {},
     "output_type": "execute_result"
    },
    {
     "data": {
      "image/png": "[encoded data removed]",
      "text/plain": [
       "<Figure size 432x288 with 1 Axes>"
      ]
     },
     "metadata": {
      "needs_background": "light"
     },
     "output_type": "display_data"
    }
   ],
   "source": [
    "plt.scatter(lr.predict(X_test), y_test)\n",
    "plt.plot(np.arange(40000), np.arange(40000), color = 'r')"
   ]
  },
  {
   "cell_type": "markdown",
   "metadata": {},
   "source": [
    "## predict new cases"
   ]
  },
  {
   "cell_type": "code",
   "execution_count": 28,
   "metadata": {},
   "outputs": [
    {
     "data": {
      "text/plain": [
       "((3139, 11), (3139,))"
      ]
     },
     "execution_count": 28,
     "metadata": {},
     "output_type": "execute_result"
    }
   ],
   "source": [
    "X = np.array(cases.loc[:, '4/25/20': '5/5/20']) - np.array(cases.loc[:, '4/24/20': '5/4/20'])\n",
    "y = np.array(cases.loc[:, '5/6/20']) - np.array(cases.loc[:, '5/5/20'])\n",
    "X.shape, y.shape"
   ]
  },
  {
   "cell_type": "code",
   "execution_count": 29,
   "metadata": {},
   "outputs": [
    {
     "data": {
      "text/plain": [
       "12.579124047648147"
      ]
     },
     "execution_count": 29,
     "metadata": {},
     "output_type": "execute_result"
    }
   ],
   "source": [
    "X_train, X_test, y_train, y_test = train_test_split(X, y, test_size = .2, random_state = 45)\n",
    "lr.fit(X_train, y_train)\n",
    "rmse(lr.predict(X_test), y_test)"
   ]
  },
  {
   "cell_type": "code",
   "execution_count": 30,
   "metadata": {},
   "outputs": [],
   "source": [
    "from sklearn.ensemble import RandomForestRegressor"
   ]
  },
  {
   "cell_type": "code",
   "execution_count": 31,
   "metadata": {},
   "outputs": [],
   "source": [
    "rf = RandomForestRegressor()"
   ]
  },
  {
   "cell_type": "code",
   "execution_count": 32,
   "metadata": {},
   "outputs": [
    {
     "data": {
      "text/plain": [
       "11.052339956633126"
      ]
     },
     "execution_count": 32,
     "metadata": {},
     "output_type": "execute_result"
    }
   ],
   "source": [
    "rf.fit(X_train, y_train)\n",
    "rmse(rf.predict(X_test), y_test)"
   ]
  },
  {
   "cell_type": "code",
   "execution_count": 33,
   "metadata": {},
   "outputs": [],
   "source": [
    "X = np.hstack((X, np.array(cases['days since stay at home']).reshape(-1, 1)))"
   ]
  },
  {
   "cell_type": "code",
   "execution_count": 34,
   "metadata": {},
   "outputs": [
    {
     "data": {
      "text/plain": [
       "12.585745930346823"
      ]
     },
     "execution_count": 34,
     "metadata": {},
     "output_type": "execute_result"
    }
   ],
   "source": [
    "X_train, X_test, y_train, y_test = train_test_split(X, y, test_size = .2, random_state = 45)\n",
    "lr.fit(X_train, y_train)\n",
    "rmse(lr.predict(X_test), y_test)"
   ]
  },
  {
   "cell_type": "code",
   "execution_count": 35,
   "metadata": {},
   "outputs": [
    {
     "data": {
      "text/plain": [
       "11.396400624508852"
      ]
     },
     "execution_count": 35,
     "metadata": {},
     "output_type": "execute_result"
    }
   ],
   "source": [
    "rf.fit(X_train, y_train)\n",
    "rmse(rf.predict(X_test), y_test)"
   ]
  },
  {
   "cell_type": "code",
   "execution_count": 36,
   "metadata": {},
   "outputs": [
    {
     "ename": "NameError",
     "evalue": "name 'yu_important_vars' is not defined",
     "output_type": "error",
     "traceback": [
      "\u001b[0;31m---------------------------------------------------------------------------\u001b[0m",
      "\u001b[0;31mNameError\u001b[0m                                 Traceback (most recent call last)",
      "\u001b[0;32m<ipython-input-36-86a3303a204e>\u001b[0m in \u001b[0;36m<module>\u001b[0;34m\u001b[0m\n\u001b[0;32m----> 1\u001b[0;31m \u001b[0mX\u001b[0m \u001b[0;34m=\u001b[0m \u001b[0mnp\u001b[0m\u001b[0;34m.\u001b[0m\u001b[0mhstack\u001b[0m\u001b[0;34m(\u001b[0m\u001b[0;34m(\u001b[0m\u001b[0mX\u001b[0m\u001b[0;34m,\u001b[0m \u001b[0mnp\u001b[0m\u001b[0;34m.\u001b[0m\u001b[0marray\u001b[0m\u001b[0;34m(\u001b[0m\u001b[0mcases\u001b[0m\u001b[0;34m[\u001b[0m\u001b[0myu_important_vars\u001b[0m\u001b[0;34m]\u001b[0m\u001b[0;34m.\u001b[0m\u001b[0mfillna\u001b[0m\u001b[0;34m(\u001b[0m\u001b[0;36m0\u001b[0m\u001b[0;34m)\u001b[0m\u001b[0;34m)\u001b[0m\u001b[0;34m)\u001b[0m\u001b[0;34m)\u001b[0m\u001b[0;34m\u001b[0m\u001b[0;34m\u001b[0m\u001b[0m\n\u001b[0m",
      "\u001b[0;31mNameError\u001b[0m: name 'yu_important_vars' is not defined"
     ]
    }
   ],
   "source": [
    "X = np.hstack((X, np.array(cases[yu_important_vars].fillna(0))))"
   ]
  },
  {
   "cell_type": "code",
   "execution_count": null,
   "metadata": {},
   "outputs": [],
   "source": [
    "X_train, X_test, y_train, y_test = train_test_split(X, y, test_size = .2, random_state = 45)\n",
    "lr.fit(X_train, y_train)\n",
    "rmse(lr.predict(X_test), y_test)"
   ]
  },
  {
   "cell_type": "code",
   "execution_count": null,
   "metadata": {},
   "outputs": [],
   "source": [
    "rf.fit(X_train, y_train)\n",
    "rmse(rf.predict(X_test), y_test)"
   ]
  },
  {
   "cell_type": "code",
   "execution_count": null,
   "metadata": {},
   "outputs": [],
   "source": [
    "X = np.hstack((X, np.array(cases['Median_Household_Income_2018']).reshape(-1, 1)))"
   ]
  },
  {
   "cell_type": "code",
   "execution_count": 37,
   "metadata": {},
   "outputs": [
    {
     "data": {
      "text/plain": [
       "12.585745930346823"
      ]
     },
     "execution_count": 37,
     "metadata": {},
     "output_type": "execute_result"
    }
   ],
   "source": [
    "X_train, X_test, y_train, y_test = train_test_split(X, y, test_size = .2, random_state = 45)\n",
    "lr.fit(X_train, y_train)\n",
    "rmse(lr.predict(X_test), y_test)"
   ]
  },
  {
   "cell_type": "code",
   "execution_count": 38,
   "metadata": {},
   "outputs": [
    {
     "data": {
      "text/plain": [
       "11.655022077531287"
      ]
     },
     "execution_count": 38,
     "metadata": {},
     "output_type": "execute_result"
    }
   ],
   "source": [
    "rf.fit(X_train, y_train)\n",
    "rmse(rf.predict(X_test), y_test)"
   ]
  },
  {
   "cell_type": "code",
   "execution_count": 39,
   "metadata": {},
   "outputs": [],
   "source": [
    "from sklearn.model_selection import KFold\n",
    "from sklearn.base import clone\n",
    "def cross_validate_rmse(model, X, y):\n",
    "    model = clone(model)\n",
    "    five_fold = KFold(n_splits=5)\n",
    "    rmse_values = []\n",
    "    for tr_ind, va_ind in five_fold.split(X):\n",
    "        model.fit(X[tr_ind,:], y[tr_ind])\n",
    "        rmse_values.append(rmse(y[va_ind], model.predict(X[va_ind,:])))\n",
    "    return np.mean(rmse_values)"
   ]
  },
  {
   "cell_type": "code",
   "execution_count": 40,
   "metadata": {},
   "outputs": [
    {
     "name": "stdout",
     "output_type": "stream",
     "text": [
      "cv rmse for lr: 18.053461388501304\n",
      "cv rmse for rf: 21.31546565977694\n"
     ]
    }
   ],
   "source": [
    "print('cv rmse for lr:', cross_validate_rmse(lr, X, y))\n",
    "print('cv rmse for rf:', cross_validate_rmse(rf, X, y))"
   ]
  },
  {
   "cell_type": "code",
   "execution_count": 41,
   "metadata": {},
   "outputs": [],
   "source": [
    "def prepare_data(data, pred_date, num_days, extra_features = None):\n",
    "    \n",
    "    t = pd.Timestamp(pred_date).strftime('%-m/%-d/%y')\n",
    "    if t not in data.columns:\n",
    "        return 'invalid date'\n",
    "    \n",
    "    t_1 = pd.Timestamp(pd.Timestamp(pred_date) - pd.DateOffset(1)).strftime('%-m/%-d/%y')\n",
    "    t_2 = pd.Timestamp(pd.Timestamp(pred_date) - pd.DateOffset(2)).strftime('%-m/%-d/%y')\n",
    "    t_n = pd.Timestamp(pd.Timestamp(pred_date) - pd.DateOffset(num_days)).strftime('%-m/%-d/%y')\n",
    "    t_n1 = pd.Timestamp(pd.Timestamp(pred_date) - pd.DateOffset(num_days+1)).strftime('%-m/%-d/%y')\n",
    "    \n",
    "    X = np.array(data.loc[:, t_n: t_1]) - np.array(data.loc[:, t_n1: t_2])\n",
    "    y = np.array(data.loc[:, t]) - np.array(data.loc[:, t_1])\n",
    "    \n",
    "    if extra_features is not None:\n",
    "        X = np.hstack((X, np.array(data[extra_features].fillna(0))))\n",
    "    \n",
    "    return X, y"
   ]
  },
  {
   "cell_type": "code",
   "execution_count": 42,
   "metadata": {},
   "outputs": [
    {
     "data": {
      "text/plain": [
       "((3139, 5), (3139,))"
      ]
     },
     "execution_count": 42,
     "metadata": {},
     "output_type": "execute_result"
    }
   ],
   "source": [
    "X, y = prepare_data(cases, '05/6/20', 5)\n",
    "X.shape, y.shape"
   ]
  },
  {
   "cell_type": "code",
   "execution_count": 44,
   "metadata": {},
   "outputs": [
    {
     "name": "stdout",
     "output_type": "stream",
     "text": [
      "best rmse: 43.286300659868665\n",
      "best num days 1\n"
     ]
    },
    {
     "data": {
      "image/png": "[encoded data removed]",
      "text/plain": [
       "<Figure size 432x288 with 1 Axes>"
      ]
     },
     "metadata": {
      "needs_background": "light"
     },
     "output_type": "display_data"
    }
   ],
   "source": [
    "from sklearn.dummy import DummyRegressor\n",
    "mean_pred = DummyRegressor()\n",
    "cv_rmses = []\n",
    "for num_days in np.arange(1, 11, 1):\n",
    "    cur_rmse = 0\n",
    "    for pred_date in ['3/1/20', '3/15/20', '4/1/20', '4/15/20', '5/1/20']:\n",
    "        X, y = prepare_data(cases, pred_date, num_days)\n",
    "        cur_rmse += cross_validate_rmse(mean_pred, X, y)\n",
    "    cv_rmses.append(cur_rmse/5)\n",
    "print('best rmse:', np.min(cv_rmses))\n",
    "print('best num days', np.argmin(cv_rmses)+1)\n",
    "\n",
    "plt.plot(np.arange(1, 11, 1), cv_rmses)\n",
    "plt.title('averaged predicted new cases rmse vs # days to look back for mean predictor')\n",
    "plt.xlabel('# of days to look back')\n",
    "plt.ylabel('average rmse');"
   ]
  },
  {
   "cell_type": "code",
   "execution_count": 45,
   "metadata": {},
   "outputs": [
    {
     "name": "stdout",
     "output_type": "stream",
     "text": [
      "best rmse: 16.565744925154842\n",
      "best num days 4\n"
     ]
    },
    {
     "data": {
      "image/png": "[encoded data removed]",
      "text/plain": [
       "<Figure size 432x288 with 1 Axes>"
      ]
     },
     "metadata": {
      "needs_background": "light"
     },
     "output_type": "display_data"
    }
   ],
   "source": [
    "# cross validate num days on a couple different pred dates\n",
    "cv_rmses = []\n",
    "for num_days in np.arange(1, 11, 1):\n",
    "    cur_rmse = 0\n",
    "    for pred_date in ['3/1/20', '3/15/20', '4/1/20', '4/15/20', '5/1/20']:\n",
    "        X, y = prepare_data(cases, pred_date, num_days)\n",
    "        cur_rmse += cross_validate_rmse(lr, X, y)\n",
    "    cv_rmses.append(cur_rmse/5)\n",
    "print('best rmse:', np.min(cv_rmses))\n",
    "print('best num days', np.argmin(cv_rmses)+1)\n",
    "\n",
    "plt.plot(np.arange(1, 11, 1), cv_rmses)\n",
    "plt.title('averaged predicted new cases rmse vs # days to look back for linear regression')\n",
    "plt.xlabel('# of days to look back')\n",
    "plt.ylabel('average rmse');"
   ]
  },
  {
   "cell_type": "code",
   "execution_count": 46,
   "metadata": {},
   "outputs": [
    {
     "name": "stdout",
     "output_type": "stream",
     "text": [
      "best rmse: 27.5377989708313\n",
      "best num days 5\n"
     ]
    },
    {
     "data": {
      "image/png": "[encoded data removed]",
      "text/plain": [
       "<Figure size 432x288 with 1 Axes>"
      ]
     },
     "metadata": {
      "needs_background": "light"
     },
     "output_type": "display_data"
    }
   ],
   "source": [
    "cv_rmses = []\n",
    "for num_days in np.arange(1, 11, 1):\n",
    "    cur_rmse = 0\n",
    "    for pred_date in ['3/1/20', '3/15/20', '4/1/20', '4/15/20', '5/1/20']:\n",
    "        X, y = prepare_data(cases, pred_date, num_days)\n",
    "        cur_rmse += cross_validate_rmse(rf, X, y)\n",
    "    cv_rmses.append(cur_rmse/5)\n",
    "print('best rmse:', np.min(cv_rmses))\n",
    "print('best num days', np.argmin(cv_rmses)+1)\n",
    "\n",
    "plt.plot(np.arange(1, 11, 1), cv_rmses)\n",
    "plt.title('averaged predicted new cases rmse vs # days to look back for rf regression')\n",
    "plt.xlabel('# of days to look back')\n",
    "plt.ylabel('average rmse');"
   ]
  },
  {
   "cell_type": "code",
   "execution_count": 52,
   "metadata": {},
   "outputs": [
    {
     "name": "stdout",
     "output_type": "stream",
     "text": [
      "best rmse: 16.55404020229572\n",
      "best feature MedianAge2010\n"
     ]
    },
    {
     "data": {
      "image/png": "[encoded data removed]",
      "text/plain": [
       "<Figure size 1800x360 with 1 Axes>"
      ]
     },
     "metadata": {
      "needs_background": "light"
     },
     "output_type": "display_data"
    }
   ],
   "source": [
    "lr = LinearRegression(normalize = True)\n",
    "cv_rmses = []\n",
    "features = ['PopulationDensityperSqMile2010',\n",
    "            'PopulationEstimate2018',\n",
    "            '#ICU_beds',\n",
    "            'MedianAge2010',\n",
    "            'Smokers_Percentage',\n",
    "            'DiabetesPercentage',\n",
    "            'HeartDiseaseMortality',\n",
    "            '#Hospitals',\n",
    "            'days since stay at home',\n",
    "            'Median_Household_Income_2018']\n",
    "for feature in features:\n",
    "    cur_rmse = 0\n",
    "    for pred_date in ['3/1/20', '3/15/20', '4/1/20', '4/15/20', '5/1/20']:\n",
    "        X, y = prepare_data(cases, pred_date, 4, [feature])\n",
    "        cur_rmse += cross_validate_rmse(lr, X, y)\n",
    "    cv_rmses.append(cur_rmse/5)\n",
    "print('best rmse:', np.min(cv_rmses))\n",
    "print('best feature', features[np.argmin(cv_rmses)])\n",
    "\n",
    "plt.figure(figsize = (25, 5))\n",
    "plt.plot(cv_rmses)\n",
    "plt.title('averaged predicted new cases rmse vs # days to look back for linear regression')\n",
    "plt.xlabel('features')\n",
    "plt.xticks(ticks = range(len(features)), labels = features)\n",
    "plt.ylabel('average rmse');"
   ]
  },
  {
   "cell_type": "code",
   "execution_count": null,
   "metadata": {},
   "outputs": [],
   "source": [
    "cv_rmses = []\n",
    "for feature in yu_important_vars:\n",
    "    cur_rmse = 0\n",
    "    for pred_date in ['3/1/20', '3/15/20', '4/1/20', '4/15/20', '5/1/20']:\n",
    "        X, y = prepare_data(cases, pred_date, 4, [feature])\n",
    "        cur_rmse += cross_validate_rmse(rf, X, y)\n",
    "    cv_rmses.append(cur_rmse/5)\n",
    "print('best rmse:', np.min(cv_rmses))\n",
    "print('best feature', yu_important_vars[np.argmin(cv_rmses)])\n",
    "\n",
    "plt.figure(figsize = (20, 5))\n",
    "plt.plot(cv_rmses)\n",
    "plt.title('averaged predicted new cases rmse vs # days to look back for rf regression')\n",
    "plt.xlabel('features')\n",
    "plt.xticks(ticks = range(len(yu_important_vars)), labels = yu_important_vars)\n",
    "plt.ylabel('average rmse');"
   ]
  },
  {
   "cell_type": "code",
   "execution_count": null,
   "metadata": {},
   "outputs": [],
   "source": [
    "lr = LinearRegression(normalize = True)\n",
    "cv_rmses = []\n",
    "for feature in yu_important_vars:\n",
    "    cur_rmse = 0\n",
    "    for pred_date in ['3/1/20', '3/15/20', '4/1/20', '4/15/20', '5/1/20']:\n",
    "        X, y = prepare_data(cases, pred_date, 4, [feature])\n",
    "        cur_rmse += cross_validate_rmse(lr, X, y)\n",
    "    cv_rmses.append(cur_rmse/5)\n",
    "print('best rmse:', np.min(cv_rmses))\n",
    "print('best feature', yu_important_vars[np.argmin(cv_rmses)])\n",
    "\n",
    "plt.figure(figsize = (20, 5))\n",
    "plt.plot(cv_rmses)\n",
    "plt.title('averaged predicted new cases rmse vs # days to look back for linear regression w normalization')\n",
    "plt.xlabel('features')\n",
    "plt.xticks(ticks = range(len(yu_important_vars)), labels = yu_important_vars)\n",
    "plt.ylabel('average rmse');"
   ]
  },
  {
   "cell_type": "code",
   "execution_count": null,
   "metadata": {},
   "outputs": [],
   "source": [
    "best_features = ['PopulationDensityperSqMile2010', 'MedianAge2010', 'Smokers_Percentage', \n",
    "                 'DiabetesPercentage', 'HeartDiseaseMortality']\n",
    "cur_rmse = 0\n",
    "for pred_date in ['3/1/20', '3/15/20', '4/1/20', '4/15/20', '5/1/20']:\n",
    "    X, y = prepare_data(cases, pred_date, 4, [feature])\n",
    "    cur_rmse += cross_validate_rmse(lr, X, y)\n",
    "print('rmse for selcted features:', cur_rmse/5)"
   ]
  },
  {
   "cell_type": "code",
   "execution_count": null,
   "metadata": {},
   "outputs": [],
   "source": [
    "best_features = ['PopulationDensityperSqMile2010', 'MedianAge2010', 'Smokers_Percentage', \n",
    "                 'DiabetesPercentage', 'HeartDiseaseMortality']\n",
    "cur_rmse = 0\n",
    "for pred_date in ['3/1/20', '3/15/20', '4/1/20', '4/15/20', '5/1/20']:\n",
    "    X, y = prepare_data(cases, pred_date, 4, [feature])\n",
    "    cur_rmse += cross_validate_rmse(rf, X, y)\n",
    "print('rmse for selcted features rf:', cur_rmse/5)"
   ]
  },
  {
   "cell_type": "markdown",
   "metadata": {},
   "source": [
    "### bias from counties with large number of cases?"
   ]
  },
  {
   "cell_type": "code",
   "execution_count": 54,
   "metadata": {},
   "outputs": [
    {
     "data": {
      "text/plain": [
       "count      3139.000000\n",
       "mean        387.807901\n",
       "std        3690.568321\n",
       "min           0.000000\n",
       "25%           4.000000\n",
       "50%          21.000000\n",
       "75%          98.000000\n",
       "max      178351.000000\n",
       "Name: 5/6/20, dtype: float64"
      ]
     },
     "execution_count": 54,
     "metadata": {},
     "output_type": "execute_result"
    }
   ],
   "source": [
    "cases['5/6/20'].describe()"
   ]
  },
  {
   "cell_type": "code",
   "execution_count": 55,
   "metadata": {},
   "outputs": [
    {
     "data": {
      "text/plain": [
       "<matplotlib.axes._subplots.AxesSubplot at 0x1a26625810>"
      ]
     },
     "execution_count": 55,
     "metadata": {},
     "output_type": "execute_result"
    },
    {
     "data": {
      "image/png": "[encoded data removed]",
      "text/plain": [
       "<Figure size 432x288 with 1 Axes>"
      ]
     },
     "metadata": {
      "needs_background": "light"
     },
     "output_type": "display_data"
    }
   ],
   "source": [
    "sns.boxplot(cases['5/6/20'])"
   ]
  },
  {
   "cell_type": "code",
   "execution_count": 64,
   "metadata": {},
   "outputs": [
    {
     "name": "stdout",
     "output_type": "stream",
     "text": [
      "cv rmse for all counties: 16.235370151626576\n"
     ]
    }
   ],
   "source": [
    "X, y = prepare_data(cases, '5/6/20', 4)\n",
    "cur_rmse = cross_validate_rmse(lr, X, y)\n",
    "print('cv rmse for all counties:', cur_rmse)"
   ]
  },
  {
   "cell_type": "code",
   "execution_count": 67,
   "metadata": {},
   "outputs": [
    {
     "name": "stdout",
     "output_type": "stream",
     "text": [
      "cv rmse for counties with cases < 25000: 15.983303423485438\n"
     ]
    }
   ],
   "source": [
    "X, y = prepare_data(cases[cases['5/6/20'] < 25000], '5/6/20', 4)\n",
    "cur_rmse = cross_validate_rmse(lr, X, y)\n",
    "print('cv rmse for counties with cases < 25000:', cur_rmse)"
   ]
  },
  {
   "cell_type": "code",
   "execution_count": 68,
   "metadata": {},
   "outputs": [
    {
     "name": "stdout",
     "output_type": "stream",
     "text": [
      "cv rmse for counties with cases < 1000: 6.341793795568724\n"
     ]
    }
   ],
   "source": [
    "X, y = prepare_data(cases[cases['5/6/20'] < 1000], '5/6/20', 4)\n",
    "cur_rmse = cross_validate_rmse(lr, X, y)\n",
    "print('cv rmse for counties with cases < 1000:', cur_rmse)"
   ]
  },
  {
   "cell_type": "code",
   "execution_count": 70,
   "metadata": {},
   "outputs": [
    {
     "name": "stdout",
     "output_type": "stream",
     "text": [
      "cv rmse for counties with cases 0 < x < 1000: 7.575833566096099\n"
     ]
    }
   ],
   "source": [
    "X, y = prepare_data(cases[(cases['5/6/20'] < 1000) & cases['5/6/20'] > 0], '5/6/20', 4)\n",
    "cur_rmse = cross_validate_rmse(lr, X, y)\n",
    "print('cv rmse for counties with cases 0 < x < 1000:', cur_rmse)"
   ]
  },
  {
   "cell_type": "code",
   "execution_count": 72,
   "metadata": {},
   "outputs": [
    {
     "data": {
      "text/plain": [
       "count    3139.000000\n",
       "mean        7.777318\n",
       "std        48.065593\n",
       "min        -9.000000\n",
       "25%         0.000000\n",
       "50%         0.000000\n",
       "75%         2.000000\n",
       "max      1477.000000\n",
       "dtype: float64"
      ]
     },
     "execution_count": 72,
     "metadata": {},
     "output_type": "execute_result"
    }
   ],
   "source": [
    "X, y = prepare_data(cases, '5/6/20', 4)\n",
    "pd.Series(y).describe()"
   ]
  },
  {
   "cell_type": "code",
   "execution_count": 73,
   "metadata": {},
   "outputs": [
    {
     "data": {
      "text/plain": [
       "<matplotlib.axes._subplots.AxesSubplot at 0x1a27a15490>"
      ]
     },
     "execution_count": 73,
     "metadata": {},
     "output_type": "execute_result"
    },
    {
     "data": {
      "image/png": "[encoded data removed]",
      "text/plain": [
       "<Figure size 432x288 with 1 Axes>"
      ]
     },
     "metadata": {
      "needs_background": "light"
     },
     "output_type": "display_data"
    }
   ],
   "source": [
    "sns.boxplot(y)"
   ]
  },
  {
   "cell_type": "code",
   "execution_count": null,
   "metadata": {},
   "outputs": [],
   "source": []
  }
 ],
 "metadata": {
  "kernelspec": {
   "display_name": "Python 3",
   "language": "python",
   "name": "python3"
  },
  "language_info": {
   "codemirror_mode": {
    "name": "ipython",
    "version": 3
   },
   "file_extension": ".py",
   "mimetype": "text/x-python",
   "name": "python",
   "nbconvert_exporter": "python",
   "pygments_lexer": "ipython3",
   "version": "3.7.6"
  }
 },
 "nbformat": 4,
 "nbformat_minor": 4
}
