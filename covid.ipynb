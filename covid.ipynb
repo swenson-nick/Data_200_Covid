{
 "cells": [
  {
   "cell_type": "code",
   "execution_count": 1,
   "metadata": {},
   "outputs": [],
   "source": [
    "import pandas as pd\n",
    "import numpy as np\n",
    "import matplotlib.pyplot as plt\n",
    "import seaborn as sns"
   ]
  },
  {
   "cell_type": "markdown",
   "metadata": {},
   "source": [
    "# Data Cleaning"
   ]
  },
  {
   "cell_type": "code",
   "execution_count": 2,
   "metadata": {},
   "outputs": [
    {
     "data": {
      "text/html": [
       "<div>\n",
       "<style scoped>\n",
       "    .dataframe tbody tr th:only-of-type {\n",
       "        vertical-align: middle;\n",
       "    }\n",
       "\n",
       "    .dataframe tbody tr th {\n",
       "        vertical-align: top;\n",
       "    }\n",
       "\n",
       "    .dataframe thead th {\n",
       "        text-align: right;\n",
       "    }\n",
       "</style>\n",
       "<table border=\"1\" class=\"dataframe\">\n",
       "  <thead>\n",
       "    <tr style=\"text-align: right;\">\n",
       "      <th></th>\n",
       "      <th>countyFIPS</th>\n",
       "      <th>STATEFP</th>\n",
       "      <th>COUNTYFP</th>\n",
       "      <th>CountyName</th>\n",
       "      <th>StateName</th>\n",
       "      <th>State</th>\n",
       "      <th>lat</th>\n",
       "      <th>lon</th>\n",
       "      <th>POP_LATITUDE</th>\n",
       "      <th>POP_LONGITUDE</th>\n",
       "      <th>...</th>\n",
       "      <th>&gt;500 gatherings</th>\n",
       "      <th>public schools</th>\n",
       "      <th>restaurant dine-in</th>\n",
       "      <th>entertainment/gym</th>\n",
       "      <th>federal guidelines</th>\n",
       "      <th>foreign travel ban</th>\n",
       "      <th>SVIPercentile</th>\n",
       "      <th>HPSAShortage</th>\n",
       "      <th>HPSAServedPop</th>\n",
       "      <th>HPSAUnderservedPop</th>\n",
       "    </tr>\n",
       "  </thead>\n",
       "  <tbody>\n",
       "    <tr>\n",
       "      <th>0</th>\n",
       "      <td>01001</td>\n",
       "      <td>1.0</td>\n",
       "      <td>1.0</td>\n",
       "      <td>Autauga</td>\n",
       "      <td>AL</td>\n",
       "      <td>Alabama</td>\n",
       "      <td>32.540091</td>\n",
       "      <td>-86.645649</td>\n",
       "      <td>32.500389</td>\n",
       "      <td>-86.494165</td>\n",
       "      <td>...</td>\n",
       "      <td>737497.0</td>\n",
       "      <td>737500.0</td>\n",
       "      <td>737503.0</td>\n",
       "      <td>737512.0</td>\n",
       "      <td>737500.0</td>\n",
       "      <td>737495.0</td>\n",
       "      <td>0.4354</td>\n",
       "      <td>NaN</td>\n",
       "      <td>NaN</td>\n",
       "      <td>NaN</td>\n",
       "    </tr>\n",
       "    <tr>\n",
       "      <th>1</th>\n",
       "      <td>01003</td>\n",
       "      <td>1.0</td>\n",
       "      <td>3.0</td>\n",
       "      <td>Baldwin</td>\n",
       "      <td>AL</td>\n",
       "      <td>Alabama</td>\n",
       "      <td>30.738314</td>\n",
       "      <td>-87.726272</td>\n",
       "      <td>30.548923</td>\n",
       "      <td>-87.762381</td>\n",
       "      <td>...</td>\n",
       "      <td>737497.0</td>\n",
       "      <td>737500.0</td>\n",
       "      <td>737503.0</td>\n",
       "      <td>737512.0</td>\n",
       "      <td>737500.0</td>\n",
       "      <td>737495.0</td>\n",
       "      <td>0.2162</td>\n",
       "      <td>NaN</td>\n",
       "      <td>NaN</td>\n",
       "      <td>NaN</td>\n",
       "    </tr>\n",
       "    <tr>\n",
       "      <th>2</th>\n",
       "      <td>01005</td>\n",
       "      <td>1.0</td>\n",
       "      <td>5.0</td>\n",
       "      <td>Barbour</td>\n",
       "      <td>AL</td>\n",
       "      <td>Alabama</td>\n",
       "      <td>31.874030</td>\n",
       "      <td>-85.397327</td>\n",
       "      <td>31.844036</td>\n",
       "      <td>-85.310038</td>\n",
       "      <td>...</td>\n",
       "      <td>737497.0</td>\n",
       "      <td>737500.0</td>\n",
       "      <td>737503.0</td>\n",
       "      <td>737512.0</td>\n",
       "      <td>737500.0</td>\n",
       "      <td>737495.0</td>\n",
       "      <td>0.9959</td>\n",
       "      <td>6.08</td>\n",
       "      <td>5400.0</td>\n",
       "      <td>18241.0</td>\n",
       "    </tr>\n",
       "    <tr>\n",
       "      <th>3</th>\n",
       "      <td>01007</td>\n",
       "      <td>1.0</td>\n",
       "      <td>7.0</td>\n",
       "      <td>Bibb</td>\n",
       "      <td>AL</td>\n",
       "      <td>Alabama</td>\n",
       "      <td>32.999024</td>\n",
       "      <td>-87.125260</td>\n",
       "      <td>33.030921</td>\n",
       "      <td>-87.127659</td>\n",
       "      <td>...</td>\n",
       "      <td>737497.0</td>\n",
       "      <td>737500.0</td>\n",
       "      <td>737503.0</td>\n",
       "      <td>737512.0</td>\n",
       "      <td>737500.0</td>\n",
       "      <td>737495.0</td>\n",
       "      <td>0.6003</td>\n",
       "      <td>2.75</td>\n",
       "      <td>14980.0</td>\n",
       "      <td>6120.0</td>\n",
       "    </tr>\n",
       "    <tr>\n",
       "      <th>4</th>\n",
       "      <td>01009</td>\n",
       "      <td>1.0</td>\n",
       "      <td>9.0</td>\n",
       "      <td>Blount</td>\n",
       "      <td>AL</td>\n",
       "      <td>Alabama</td>\n",
       "      <td>33.990440</td>\n",
       "      <td>-86.562711</td>\n",
       "      <td>33.955243</td>\n",
       "      <td>-86.591491</td>\n",
       "      <td>...</td>\n",
       "      <td>737497.0</td>\n",
       "      <td>737500.0</td>\n",
       "      <td>737503.0</td>\n",
       "      <td>737512.0</td>\n",
       "      <td>737500.0</td>\n",
       "      <td>737495.0</td>\n",
       "      <td>0.4242</td>\n",
       "      <td>7.21</td>\n",
       "      <td>31850.0</td>\n",
       "      <td>25233.0</td>\n",
       "    </tr>\n",
       "  </tbody>\n",
       "</table>\n",
       "<p>5 rows × 87 columns</p>\n",
       "</div>"
      ],
      "text/plain": [
       "  countyFIPS  STATEFP  COUNTYFP CountyName StateName    State        lat  \\\n",
       "0      01001      1.0       1.0    Autauga        AL  Alabama  32.540091   \n",
       "1      01003      1.0       3.0    Baldwin        AL  Alabama  30.738314   \n",
       "2      01005      1.0       5.0    Barbour        AL  Alabama  31.874030   \n",
       "3      01007      1.0       7.0       Bibb        AL  Alabama  32.999024   \n",
       "4      01009      1.0       9.0     Blount        AL  Alabama  33.990440   \n",
       "\n",
       "         lon  POP_LATITUDE  POP_LONGITUDE  ... >500 gatherings public schools  \\\n",
       "0 -86.645649     32.500389     -86.494165  ...        737497.0       737500.0   \n",
       "1 -87.726272     30.548923     -87.762381  ...        737497.0       737500.0   \n",
       "2 -85.397327     31.844036     -85.310038  ...        737497.0       737500.0   \n",
       "3 -87.125260     33.030921     -87.127659  ...        737497.0       737500.0   \n",
       "4 -86.562711     33.955243     -86.591491  ...        737497.0       737500.0   \n",
       "\n",
       "   restaurant dine-in  entertainment/gym  federal guidelines  \\\n",
       "0            737503.0           737512.0            737500.0   \n",
       "1            737503.0           737512.0            737500.0   \n",
       "2            737503.0           737512.0            737500.0   \n",
       "3            737503.0           737512.0            737500.0   \n",
       "4            737503.0           737512.0            737500.0   \n",
       "\n",
       "   foreign travel ban  SVIPercentile  HPSAShortage  HPSAServedPop  \\\n",
       "0            737495.0         0.4354           NaN            NaN   \n",
       "1            737495.0         0.2162           NaN            NaN   \n",
       "2            737495.0         0.9959          6.08         5400.0   \n",
       "3            737495.0         0.6003          2.75        14980.0   \n",
       "4            737495.0         0.4242          7.21        31850.0   \n",
       "\n",
       "   HPSAUnderservedPop  \n",
       "0                 NaN  \n",
       "1                 NaN  \n",
       "2             18241.0  \n",
       "3              6120.0  \n",
       "4             25233.0  \n",
       "\n",
       "[5 rows x 87 columns]"
      ]
     },
     "execution_count": 2,
     "metadata": {},
     "output_type": "execute_result"
    }
   ],
   "source": [
    "# Note: data downloaded from Yu group Github on 5/7/20\n",
    "demo = pd.read_csv('data/county_data_abridged.csv')\n",
    "demo.head()"
   ]
  },
  {
   "cell_type": "code",
   "execution_count": 3,
   "metadata": {},
   "outputs": [
    {
     "data": {
      "text/html": [
       "<div>\n",
       "<style scoped>\n",
       "    .dataframe tbody tr th:only-of-type {\n",
       "        vertical-align: middle;\n",
       "    }\n",
       "\n",
       "    .dataframe tbody tr th {\n",
       "        vertical-align: top;\n",
       "    }\n",
       "\n",
       "    .dataframe thead th {\n",
       "        text-align: right;\n",
       "    }\n",
       "</style>\n",
       "<table border=\"1\" class=\"dataframe\">\n",
       "  <thead>\n",
       "    <tr style=\"text-align: right;\">\n",
       "      <th></th>\n",
       "      <th>Province_State</th>\n",
       "      <th>Country_Region</th>\n",
       "      <th>Last_Update</th>\n",
       "      <th>Lat</th>\n",
       "      <th>Long_</th>\n",
       "      <th>Confirmed</th>\n",
       "      <th>Deaths</th>\n",
       "      <th>Recovered</th>\n",
       "      <th>Active</th>\n",
       "      <th>FIPS</th>\n",
       "      <th>Incident_Rate</th>\n",
       "      <th>People_Tested</th>\n",
       "      <th>People_Hospitalized</th>\n",
       "      <th>Mortality_Rate</th>\n",
       "      <th>UID</th>\n",
       "      <th>ISO3</th>\n",
       "      <th>Testing_Rate</th>\n",
       "      <th>Hospitalization_Rate</th>\n",
       "    </tr>\n",
       "  </thead>\n",
       "  <tbody>\n",
       "    <tr>\n",
       "      <th>0</th>\n",
       "      <td>Alabama</td>\n",
       "      <td>US</td>\n",
       "      <td>2020-05-07 02:32:32</td>\n",
       "      <td>32.3182</td>\n",
       "      <td>-86.9023</td>\n",
       "      <td>8691</td>\n",
       "      <td>343</td>\n",
       "      <td>NaN</td>\n",
       "      <td>8348.0</td>\n",
       "      <td>1</td>\n",
       "      <td>185.352760</td>\n",
       "      <td>109516.0</td>\n",
       "      <td>1158.0</td>\n",
       "      <td>3.946611</td>\n",
       "      <td>84000001</td>\n",
       "      <td>USA</td>\n",
       "      <td>2335.645249</td>\n",
       "      <td>13.324128</td>\n",
       "    </tr>\n",
       "    <tr>\n",
       "      <th>1</th>\n",
       "      <td>Alaska</td>\n",
       "      <td>US</td>\n",
       "      <td>2020-05-07 02:32:32</td>\n",
       "      <td>61.3707</td>\n",
       "      <td>-152.4044</td>\n",
       "      <td>372</td>\n",
       "      <td>10</td>\n",
       "      <td>284.0</td>\n",
       "      <td>78.0</td>\n",
       "      <td>2</td>\n",
       "      <td>62.233479</td>\n",
       "      <td>23655.0</td>\n",
       "      <td>NaN</td>\n",
       "      <td>2.688172</td>\n",
       "      <td>84000002</td>\n",
       "      <td>USA</td>\n",
       "      <td>3957.346645</td>\n",
       "      <td>NaN</td>\n",
       "    </tr>\n",
       "    <tr>\n",
       "      <th>2</th>\n",
       "      <td>American Samoa</td>\n",
       "      <td>US</td>\n",
       "      <td>2020-05-07 02:32:32</td>\n",
       "      <td>-14.2710</td>\n",
       "      <td>-170.1320</td>\n",
       "      <td>0</td>\n",
       "      <td>0</td>\n",
       "      <td>NaN</td>\n",
       "      <td>0.0</td>\n",
       "      <td>60</td>\n",
       "      <td>0.000000</td>\n",
       "      <td>83.0</td>\n",
       "      <td>NaN</td>\n",
       "      <td>NaN</td>\n",
       "      <td>16</td>\n",
       "      <td>ASM</td>\n",
       "      <td>149.170576</td>\n",
       "      <td>NaN</td>\n",
       "    </tr>\n",
       "    <tr>\n",
       "      <th>3</th>\n",
       "      <td>Arizona</td>\n",
       "      <td>US</td>\n",
       "      <td>2020-05-07 02:32:32</td>\n",
       "      <td>33.7298</td>\n",
       "      <td>-111.4312</td>\n",
       "      <td>9707</td>\n",
       "      <td>426</td>\n",
       "      <td>1693.0</td>\n",
       "      <td>7588.0</td>\n",
       "      <td>4</td>\n",
       "      <td>133.361415</td>\n",
       "      <td>91737.0</td>\n",
       "      <td>1430.0</td>\n",
       "      <td>4.388586</td>\n",
       "      <td>84000004</td>\n",
       "      <td>USA</td>\n",
       "      <td>1260.345745</td>\n",
       "      <td>14.731637</td>\n",
       "    </tr>\n",
       "    <tr>\n",
       "      <th>4</th>\n",
       "      <td>Arkansas</td>\n",
       "      <td>US</td>\n",
       "      <td>2020-05-07 02:32:32</td>\n",
       "      <td>34.9697</td>\n",
       "      <td>-92.3731</td>\n",
       "      <td>3611</td>\n",
       "      <td>87</td>\n",
       "      <td>2109.0</td>\n",
       "      <td>1415.0</td>\n",
       "      <td>5</td>\n",
       "      <td>139.473246</td>\n",
       "      <td>59003.0</td>\n",
       "      <td>453.0</td>\n",
       "      <td>2.409305</td>\n",
       "      <td>84000005</td>\n",
       "      <td>USA</td>\n",
       "      <td>2278.964260</td>\n",
       "      <td>12.545001</td>\n",
       "    </tr>\n",
       "  </tbody>\n",
       "</table>\n",
       "</div>"
      ],
      "text/plain": [
       "   Province_State Country_Region          Last_Update      Lat     Long_  \\\n",
       "0         Alabama             US  2020-05-07 02:32:32  32.3182  -86.9023   \n",
       "1          Alaska             US  2020-05-07 02:32:32  61.3707 -152.4044   \n",
       "2  American Samoa             US  2020-05-07 02:32:32 -14.2710 -170.1320   \n",
       "3         Arizona             US  2020-05-07 02:32:32  33.7298 -111.4312   \n",
       "4        Arkansas             US  2020-05-07 02:32:32  34.9697  -92.3731   \n",
       "\n",
       "   Confirmed  Deaths  Recovered  Active  FIPS  Incident_Rate  People_Tested  \\\n",
       "0       8691     343        NaN  8348.0     1     185.352760       109516.0   \n",
       "1        372      10      284.0    78.0     2      62.233479        23655.0   \n",
       "2          0       0        NaN     0.0    60       0.000000           83.0   \n",
       "3       9707     426     1693.0  7588.0     4     133.361415        91737.0   \n",
       "4       3611      87     2109.0  1415.0     5     139.473246        59003.0   \n",
       "\n",
       "   People_Hospitalized  Mortality_Rate       UID ISO3  Testing_Rate  \\\n",
       "0               1158.0        3.946611  84000001  USA   2335.645249   \n",
       "1                  NaN        2.688172  84000002  USA   3957.346645   \n",
       "2                  NaN             NaN        16  ASM    149.170576   \n",
       "3               1430.0        4.388586  84000004  USA   1260.345745   \n",
       "4                453.0        2.409305  84000005  USA   2278.964260   \n",
       "\n",
       "   Hospitalization_Rate  \n",
       "0             13.324128  \n",
       "1                   NaN  \n",
       "2                   NaN  \n",
       "3             14.731637  \n",
       "4             12.545001  "
      ]
     },
     "execution_count": 3,
     "metadata": {},
     "output_type": "execute_result"
    }
   ],
   "source": [
    "# Note: data downloaded from CSSE Github on 5/7/20\n",
    "infections = pd.read_csv('data/05-06-2020.csv')\n",
    "infections.head()"
   ]
  },
  {
   "cell_type": "code",
   "execution_count": 4,
   "metadata": {},
   "outputs": [
    {
     "data": {
      "text/html": [
       "<div>\n",
       "<style scoped>\n",
       "    .dataframe tbody tr th:only-of-type {\n",
       "        vertical-align: middle;\n",
       "    }\n",
       "\n",
       "    .dataframe tbody tr th {\n",
       "        vertical-align: top;\n",
       "    }\n",
       "\n",
       "    .dataframe thead th {\n",
       "        text-align: right;\n",
       "    }\n",
       "</style>\n",
       "<table border=\"1\" class=\"dataframe\">\n",
       "  <thead>\n",
       "    <tr style=\"text-align: right;\">\n",
       "      <th></th>\n",
       "      <th>UID</th>\n",
       "      <th>iso2</th>\n",
       "      <th>iso3</th>\n",
       "      <th>code3</th>\n",
       "      <th>FIPS</th>\n",
       "      <th>Admin2</th>\n",
       "      <th>Province_State</th>\n",
       "      <th>Country_Region</th>\n",
       "      <th>Lat</th>\n",
       "      <th>Long_</th>\n",
       "      <th>...</th>\n",
       "      <th>4/28/20</th>\n",
       "      <th>4/29/20</th>\n",
       "      <th>4/30/20</th>\n",
       "      <th>5/1/20</th>\n",
       "      <th>5/2/20</th>\n",
       "      <th>5/3/20</th>\n",
       "      <th>5/4/20</th>\n",
       "      <th>5/5/20</th>\n",
       "      <th>5/6/20</th>\n",
       "      <th>5/7/20</th>\n",
       "    </tr>\n",
       "  </thead>\n",
       "  <tbody>\n",
       "    <tr>\n",
       "      <th>0</th>\n",
       "      <td>16</td>\n",
       "      <td>AS</td>\n",
       "      <td>ASM</td>\n",
       "      <td>16</td>\n",
       "      <td>60.0</td>\n",
       "      <td>NaN</td>\n",
       "      <td>American Samoa</td>\n",
       "      <td>US</td>\n",
       "      <td>-14.271000</td>\n",
       "      <td>-170.132000</td>\n",
       "      <td>...</td>\n",
       "      <td>0</td>\n",
       "      <td>0</td>\n",
       "      <td>0</td>\n",
       "      <td>0</td>\n",
       "      <td>0</td>\n",
       "      <td>0</td>\n",
       "      <td>0</td>\n",
       "      <td>0</td>\n",
       "      <td>0</td>\n",
       "      <td>0</td>\n",
       "    </tr>\n",
       "    <tr>\n",
       "      <th>1</th>\n",
       "      <td>316</td>\n",
       "      <td>GU</td>\n",
       "      <td>GUM</td>\n",
       "      <td>316</td>\n",
       "      <td>66.0</td>\n",
       "      <td>NaN</td>\n",
       "      <td>Guam</td>\n",
       "      <td>US</td>\n",
       "      <td>13.444300</td>\n",
       "      <td>144.793700</td>\n",
       "      <td>...</td>\n",
       "      <td>5</td>\n",
       "      <td>5</td>\n",
       "      <td>5</td>\n",
       "      <td>5</td>\n",
       "      <td>5</td>\n",
       "      <td>5</td>\n",
       "      <td>5</td>\n",
       "      <td>5</td>\n",
       "      <td>5</td>\n",
       "      <td>5</td>\n",
       "    </tr>\n",
       "    <tr>\n",
       "      <th>2</th>\n",
       "      <td>580</td>\n",
       "      <td>MP</td>\n",
       "      <td>MNP</td>\n",
       "      <td>580</td>\n",
       "      <td>69.0</td>\n",
       "      <td>NaN</td>\n",
       "      <td>Northern Mariana Islands</td>\n",
       "      <td>US</td>\n",
       "      <td>15.097900</td>\n",
       "      <td>145.673900</td>\n",
       "      <td>...</td>\n",
       "      <td>2</td>\n",
       "      <td>2</td>\n",
       "      <td>2</td>\n",
       "      <td>2</td>\n",
       "      <td>2</td>\n",
       "      <td>2</td>\n",
       "      <td>2</td>\n",
       "      <td>2</td>\n",
       "      <td>2</td>\n",
       "      <td>2</td>\n",
       "    </tr>\n",
       "    <tr>\n",
       "      <th>3</th>\n",
       "      <td>630</td>\n",
       "      <td>PR</td>\n",
       "      <td>PRI</td>\n",
       "      <td>630</td>\n",
       "      <td>72.0</td>\n",
       "      <td>NaN</td>\n",
       "      <td>Puerto Rico</td>\n",
       "      <td>US</td>\n",
       "      <td>18.220800</td>\n",
       "      <td>-66.590100</td>\n",
       "      <td>...</td>\n",
       "      <td>86</td>\n",
       "      <td>86</td>\n",
       "      <td>92</td>\n",
       "      <td>94</td>\n",
       "      <td>95</td>\n",
       "      <td>97</td>\n",
       "      <td>97</td>\n",
       "      <td>99</td>\n",
       "      <td>99</td>\n",
       "      <td>102</td>\n",
       "    </tr>\n",
       "    <tr>\n",
       "      <th>4</th>\n",
       "      <td>850</td>\n",
       "      <td>VI</td>\n",
       "      <td>VIR</td>\n",
       "      <td>850</td>\n",
       "      <td>78.0</td>\n",
       "      <td>NaN</td>\n",
       "      <td>Virgin Islands</td>\n",
       "      <td>US</td>\n",
       "      <td>18.335800</td>\n",
       "      <td>-64.896300</td>\n",
       "      <td>...</td>\n",
       "      <td>4</td>\n",
       "      <td>4</td>\n",
       "      <td>4</td>\n",
       "      <td>4</td>\n",
       "      <td>4</td>\n",
       "      <td>4</td>\n",
       "      <td>4</td>\n",
       "      <td>4</td>\n",
       "      <td>4</td>\n",
       "      <td>4</td>\n",
       "    </tr>\n",
       "    <tr>\n",
       "      <th>5</th>\n",
       "      <td>84001001</td>\n",
       "      <td>US</td>\n",
       "      <td>USA</td>\n",
       "      <td>840</td>\n",
       "      <td>1001.0</td>\n",
       "      <td>Autauga</td>\n",
       "      <td>Alabama</td>\n",
       "      <td>US</td>\n",
       "      <td>32.539527</td>\n",
       "      <td>-86.644082</td>\n",
       "      <td>...</td>\n",
       "      <td>4</td>\n",
       "      <td>4</td>\n",
       "      <td>4</td>\n",
       "      <td>3</td>\n",
       "      <td>3</td>\n",
       "      <td>3</td>\n",
       "      <td>3</td>\n",
       "      <td>3</td>\n",
       "      <td>3</td>\n",
       "      <td>3</td>\n",
       "    </tr>\n",
       "    <tr>\n",
       "      <th>6</th>\n",
       "      <td>84001003</td>\n",
       "      <td>US</td>\n",
       "      <td>USA</td>\n",
       "      <td>840</td>\n",
       "      <td>1003.0</td>\n",
       "      <td>Baldwin</td>\n",
       "      <td>Alabama</td>\n",
       "      <td>US</td>\n",
       "      <td>30.727750</td>\n",
       "      <td>-87.722071</td>\n",
       "      <td>...</td>\n",
       "      <td>3</td>\n",
       "      <td>3</td>\n",
       "      <td>3</td>\n",
       "      <td>4</td>\n",
       "      <td>4</td>\n",
       "      <td>4</td>\n",
       "      <td>4</td>\n",
       "      <td>5</td>\n",
       "      <td>5</td>\n",
       "      <td>5</td>\n",
       "    </tr>\n",
       "    <tr>\n",
       "      <th>7</th>\n",
       "      <td>84001005</td>\n",
       "      <td>US</td>\n",
       "      <td>USA</td>\n",
       "      <td>840</td>\n",
       "      <td>1005.0</td>\n",
       "      <td>Barbour</td>\n",
       "      <td>Alabama</td>\n",
       "      <td>US</td>\n",
       "      <td>31.868263</td>\n",
       "      <td>-85.387129</td>\n",
       "      <td>...</td>\n",
       "      <td>0</td>\n",
       "      <td>1</td>\n",
       "      <td>1</td>\n",
       "      <td>1</td>\n",
       "      <td>1</td>\n",
       "      <td>1</td>\n",
       "      <td>1</td>\n",
       "      <td>1</td>\n",
       "      <td>1</td>\n",
       "      <td>1</td>\n",
       "    </tr>\n",
       "    <tr>\n",
       "      <th>8</th>\n",
       "      <td>84001007</td>\n",
       "      <td>US</td>\n",
       "      <td>USA</td>\n",
       "      <td>840</td>\n",
       "      <td>1007.0</td>\n",
       "      <td>Bibb</td>\n",
       "      <td>Alabama</td>\n",
       "      <td>US</td>\n",
       "      <td>32.996421</td>\n",
       "      <td>-87.125115</td>\n",
       "      <td>...</td>\n",
       "      <td>0</td>\n",
       "      <td>0</td>\n",
       "      <td>0</td>\n",
       "      <td>0</td>\n",
       "      <td>0</td>\n",
       "      <td>0</td>\n",
       "      <td>0</td>\n",
       "      <td>0</td>\n",
       "      <td>0</td>\n",
       "      <td>0</td>\n",
       "    </tr>\n",
       "    <tr>\n",
       "      <th>9</th>\n",
       "      <td>84001009</td>\n",
       "      <td>US</td>\n",
       "      <td>USA</td>\n",
       "      <td>840</td>\n",
       "      <td>1009.0</td>\n",
       "      <td>Blount</td>\n",
       "      <td>Alabama</td>\n",
       "      <td>US</td>\n",
       "      <td>33.982109</td>\n",
       "      <td>-86.567906</td>\n",
       "      <td>...</td>\n",
       "      <td>0</td>\n",
       "      <td>0</td>\n",
       "      <td>0</td>\n",
       "      <td>0</td>\n",
       "      <td>0</td>\n",
       "      <td>0</td>\n",
       "      <td>0</td>\n",
       "      <td>0</td>\n",
       "      <td>0</td>\n",
       "      <td>0</td>\n",
       "    </tr>\n",
       "  </tbody>\n",
       "</table>\n",
       "<p>10 rows × 119 columns</p>\n",
       "</div>"
      ],
      "text/plain": [
       "        UID iso2 iso3  code3    FIPS   Admin2            Province_State  \\\n",
       "0        16   AS  ASM     16    60.0      NaN            American Samoa   \n",
       "1       316   GU  GUM    316    66.0      NaN                      Guam   \n",
       "2       580   MP  MNP    580    69.0      NaN  Northern Mariana Islands   \n",
       "3       630   PR  PRI    630    72.0      NaN               Puerto Rico   \n",
       "4       850   VI  VIR    850    78.0      NaN            Virgin Islands   \n",
       "5  84001001   US  USA    840  1001.0  Autauga                   Alabama   \n",
       "6  84001003   US  USA    840  1003.0  Baldwin                   Alabama   \n",
       "7  84001005   US  USA    840  1005.0  Barbour                   Alabama   \n",
       "8  84001007   US  USA    840  1007.0     Bibb                   Alabama   \n",
       "9  84001009   US  USA    840  1009.0   Blount                   Alabama   \n",
       "\n",
       "  Country_Region        Lat       Long_  ... 4/28/20  4/29/20  4/30/20  \\\n",
       "0             US -14.271000 -170.132000  ...       0        0        0   \n",
       "1             US  13.444300  144.793700  ...       5        5        5   \n",
       "2             US  15.097900  145.673900  ...       2        2        2   \n",
       "3             US  18.220800  -66.590100  ...      86       86       92   \n",
       "4             US  18.335800  -64.896300  ...       4        4        4   \n",
       "5             US  32.539527  -86.644082  ...       4        4        4   \n",
       "6             US  30.727750  -87.722071  ...       3        3        3   \n",
       "7             US  31.868263  -85.387129  ...       0        1        1   \n",
       "8             US  32.996421  -87.125115  ...       0        0        0   \n",
       "9             US  33.982109  -86.567906  ...       0        0        0   \n",
       "\n",
       "   5/1/20  5/2/20  5/3/20  5/4/20  5/5/20  5/6/20  5/7/20  \n",
       "0       0       0       0       0       0       0       0  \n",
       "1       5       5       5       5       5       5       5  \n",
       "2       2       2       2       2       2       2       2  \n",
       "3      94      95      97      97      99      99     102  \n",
       "4       4       4       4       4       4       4       4  \n",
       "5       3       3       3       3       3       3       3  \n",
       "6       4       4       4       4       5       5       5  \n",
       "7       1       1       1       1       1       1       1  \n",
       "8       0       0       0       0       0       0       0  \n",
       "9       0       0       0       0       0       0       0  \n",
       "\n",
       "[10 rows x 119 columns]"
      ]
     },
     "execution_count": 4,
     "metadata": {},
     "output_type": "execute_result"
    }
   ],
   "source": [
    "# Note: data downloaded from CSSE Github on 5/7/20\n",
    "deaths = pd.read_csv('data/time_series_covid19_deaths_US.csv')\n",
    "deaths.head(10)"
   ]
  },
  {
   "cell_type": "code",
   "execution_count": 5,
   "metadata": {},
   "outputs": [
    {
     "data": {
      "text/html": [
       "<div>\n",
       "<style scoped>\n",
       "    .dataframe tbody tr th:only-of-type {\n",
       "        vertical-align: middle;\n",
       "    }\n",
       "\n",
       "    .dataframe tbody tr th {\n",
       "        vertical-align: top;\n",
       "    }\n",
       "\n",
       "    .dataframe thead th {\n",
       "        text-align: right;\n",
       "    }\n",
       "</style>\n",
       "<table border=\"1\" class=\"dataframe\">\n",
       "  <thead>\n",
       "    <tr style=\"text-align: right;\">\n",
       "      <th></th>\n",
       "      <th>UID</th>\n",
       "      <th>iso2</th>\n",
       "      <th>iso3</th>\n",
       "      <th>code3</th>\n",
       "      <th>FIPS</th>\n",
       "      <th>Admin2</th>\n",
       "      <th>Province_State</th>\n",
       "      <th>Country_Region</th>\n",
       "      <th>Lat</th>\n",
       "      <th>Long_</th>\n",
       "      <th>...</th>\n",
       "      <th>4/28/20</th>\n",
       "      <th>4/29/20</th>\n",
       "      <th>4/30/20</th>\n",
       "      <th>5/1/20</th>\n",
       "      <th>5/2/20</th>\n",
       "      <th>5/3/20</th>\n",
       "      <th>5/4/20</th>\n",
       "      <th>5/5/20</th>\n",
       "      <th>5/6/20</th>\n",
       "      <th>5/7/20</th>\n",
       "    </tr>\n",
       "  </thead>\n",
       "  <tbody>\n",
       "    <tr>\n",
       "      <th>0</th>\n",
       "      <td>16</td>\n",
       "      <td>AS</td>\n",
       "      <td>ASM</td>\n",
       "      <td>16</td>\n",
       "      <td>60.0</td>\n",
       "      <td>NaN</td>\n",
       "      <td>American Samoa</td>\n",
       "      <td>US</td>\n",
       "      <td>-14.271000</td>\n",
       "      <td>-170.132000</td>\n",
       "      <td>...</td>\n",
       "      <td>0</td>\n",
       "      <td>0</td>\n",
       "      <td>0</td>\n",
       "      <td>0</td>\n",
       "      <td>0</td>\n",
       "      <td>0</td>\n",
       "      <td>0</td>\n",
       "      <td>0</td>\n",
       "      <td>0</td>\n",
       "      <td>0</td>\n",
       "    </tr>\n",
       "    <tr>\n",
       "      <th>1</th>\n",
       "      <td>316</td>\n",
       "      <td>GU</td>\n",
       "      <td>GUM</td>\n",
       "      <td>316</td>\n",
       "      <td>66.0</td>\n",
       "      <td>NaN</td>\n",
       "      <td>Guam</td>\n",
       "      <td>US</td>\n",
       "      <td>13.444300</td>\n",
       "      <td>144.793700</td>\n",
       "      <td>...</td>\n",
       "      <td>141</td>\n",
       "      <td>141</td>\n",
       "      <td>145</td>\n",
       "      <td>145</td>\n",
       "      <td>145</td>\n",
       "      <td>145</td>\n",
       "      <td>145</td>\n",
       "      <td>145</td>\n",
       "      <td>149</td>\n",
       "      <td>149</td>\n",
       "    </tr>\n",
       "    <tr>\n",
       "      <th>2</th>\n",
       "      <td>580</td>\n",
       "      <td>MP</td>\n",
       "      <td>MNP</td>\n",
       "      <td>580</td>\n",
       "      <td>69.0</td>\n",
       "      <td>NaN</td>\n",
       "      <td>Northern Mariana Islands</td>\n",
       "      <td>US</td>\n",
       "      <td>15.097900</td>\n",
       "      <td>145.673900</td>\n",
       "      <td>...</td>\n",
       "      <td>14</td>\n",
       "      <td>14</td>\n",
       "      <td>14</td>\n",
       "      <td>14</td>\n",
       "      <td>14</td>\n",
       "      <td>14</td>\n",
       "      <td>14</td>\n",
       "      <td>14</td>\n",
       "      <td>15</td>\n",
       "      <td>15</td>\n",
       "    </tr>\n",
       "    <tr>\n",
       "      <th>3</th>\n",
       "      <td>630</td>\n",
       "      <td>PR</td>\n",
       "      <td>PRI</td>\n",
       "      <td>630</td>\n",
       "      <td>72.0</td>\n",
       "      <td>NaN</td>\n",
       "      <td>Puerto Rico</td>\n",
       "      <td>US</td>\n",
       "      <td>18.220800</td>\n",
       "      <td>-66.590100</td>\n",
       "      <td>...</td>\n",
       "      <td>1400</td>\n",
       "      <td>1433</td>\n",
       "      <td>1539</td>\n",
       "      <td>1575</td>\n",
       "      <td>1757</td>\n",
       "      <td>1808</td>\n",
       "      <td>1843</td>\n",
       "      <td>1924</td>\n",
       "      <td>1968</td>\n",
       "      <td>2031</td>\n",
       "    </tr>\n",
       "    <tr>\n",
       "      <th>4</th>\n",
       "      <td>850</td>\n",
       "      <td>VI</td>\n",
       "      <td>VIR</td>\n",
       "      <td>850</td>\n",
       "      <td>78.0</td>\n",
       "      <td>NaN</td>\n",
       "      <td>Virgin Islands</td>\n",
       "      <td>US</td>\n",
       "      <td>18.335800</td>\n",
       "      <td>-64.896300</td>\n",
       "      <td>...</td>\n",
       "      <td>57</td>\n",
       "      <td>57</td>\n",
       "      <td>66</td>\n",
       "      <td>66</td>\n",
       "      <td>66</td>\n",
       "      <td>66</td>\n",
       "      <td>66</td>\n",
       "      <td>66</td>\n",
       "      <td>66</td>\n",
       "      <td>66</td>\n",
       "    </tr>\n",
       "    <tr>\n",
       "      <th>5</th>\n",
       "      <td>84001001</td>\n",
       "      <td>US</td>\n",
       "      <td>USA</td>\n",
       "      <td>840</td>\n",
       "      <td>1001.0</td>\n",
       "      <td>Autauga</td>\n",
       "      <td>Alabama</td>\n",
       "      <td>US</td>\n",
       "      <td>32.539527</td>\n",
       "      <td>-86.644082</td>\n",
       "      <td>...</td>\n",
       "      <td>40</td>\n",
       "      <td>43</td>\n",
       "      <td>44</td>\n",
       "      <td>42</td>\n",
       "      <td>45</td>\n",
       "      <td>48</td>\n",
       "      <td>53</td>\n",
       "      <td>53</td>\n",
       "      <td>58</td>\n",
       "      <td>61</td>\n",
       "    </tr>\n",
       "    <tr>\n",
       "      <th>6</th>\n",
       "      <td>84001003</td>\n",
       "      <td>US</td>\n",
       "      <td>USA</td>\n",
       "      <td>840</td>\n",
       "      <td>1003.0</td>\n",
       "      <td>Baldwin</td>\n",
       "      <td>Alabama</td>\n",
       "      <td>US</td>\n",
       "      <td>30.727750</td>\n",
       "      <td>-87.722071</td>\n",
       "      <td>...</td>\n",
       "      <td>171</td>\n",
       "      <td>174</td>\n",
       "      <td>174</td>\n",
       "      <td>175</td>\n",
       "      <td>181</td>\n",
       "      <td>187</td>\n",
       "      <td>188</td>\n",
       "      <td>189</td>\n",
       "      <td>196</td>\n",
       "      <td>205</td>\n",
       "    </tr>\n",
       "    <tr>\n",
       "      <th>7</th>\n",
       "      <td>84001005</td>\n",
       "      <td>US</td>\n",
       "      <td>USA</td>\n",
       "      <td>840</td>\n",
       "      <td>1005.0</td>\n",
       "      <td>Barbour</td>\n",
       "      <td>Alabama</td>\n",
       "      <td>US</td>\n",
       "      <td>31.868263</td>\n",
       "      <td>-85.387129</td>\n",
       "      <td>...</td>\n",
       "      <td>37</td>\n",
       "      <td>37</td>\n",
       "      <td>39</td>\n",
       "      <td>42</td>\n",
       "      <td>43</td>\n",
       "      <td>45</td>\n",
       "      <td>45</td>\n",
       "      <td>47</td>\n",
       "      <td>47</td>\n",
       "      <td>51</td>\n",
       "    </tr>\n",
       "    <tr>\n",
       "      <th>8</th>\n",
       "      <td>84001007</td>\n",
       "      <td>US</td>\n",
       "      <td>USA</td>\n",
       "      <td>840</td>\n",
       "      <td>1007.0</td>\n",
       "      <td>Bibb</td>\n",
       "      <td>Alabama</td>\n",
       "      <td>US</td>\n",
       "      <td>32.996421</td>\n",
       "      <td>-87.125115</td>\n",
       "      <td>...</td>\n",
       "      <td>42</td>\n",
       "      <td>42</td>\n",
       "      <td>42</td>\n",
       "      <td>42</td>\n",
       "      <td>42</td>\n",
       "      <td>43</td>\n",
       "      <td>42</td>\n",
       "      <td>43</td>\n",
       "      <td>43</td>\n",
       "      <td>44</td>\n",
       "    </tr>\n",
       "    <tr>\n",
       "      <th>9</th>\n",
       "      <td>84001009</td>\n",
       "      <td>US</td>\n",
       "      <td>USA</td>\n",
       "      <td>840</td>\n",
       "      <td>1009.0</td>\n",
       "      <td>Blount</td>\n",
       "      <td>Alabama</td>\n",
       "      <td>US</td>\n",
       "      <td>33.982109</td>\n",
       "      <td>-86.567906</td>\n",
       "      <td>...</td>\n",
       "      <td>34</td>\n",
       "      <td>36</td>\n",
       "      <td>37</td>\n",
       "      <td>39</td>\n",
       "      <td>40</td>\n",
       "      <td>40</td>\n",
       "      <td>40</td>\n",
       "      <td>40</td>\n",
       "      <td>42</td>\n",
       "      <td>44</td>\n",
       "    </tr>\n",
       "  </tbody>\n",
       "</table>\n",
       "<p>10 rows × 118 columns</p>\n",
       "</div>"
      ],
      "text/plain": [
       "        UID iso2 iso3  code3    FIPS   Admin2            Province_State  \\\n",
       "0        16   AS  ASM     16    60.0      NaN            American Samoa   \n",
       "1       316   GU  GUM    316    66.0      NaN                      Guam   \n",
       "2       580   MP  MNP    580    69.0      NaN  Northern Mariana Islands   \n",
       "3       630   PR  PRI    630    72.0      NaN               Puerto Rico   \n",
       "4       850   VI  VIR    850    78.0      NaN            Virgin Islands   \n",
       "5  84001001   US  USA    840  1001.0  Autauga                   Alabama   \n",
       "6  84001003   US  USA    840  1003.0  Baldwin                   Alabama   \n",
       "7  84001005   US  USA    840  1005.0  Barbour                   Alabama   \n",
       "8  84001007   US  USA    840  1007.0     Bibb                   Alabama   \n",
       "9  84001009   US  USA    840  1009.0   Blount                   Alabama   \n",
       "\n",
       "  Country_Region        Lat       Long_  ... 4/28/20  4/29/20  4/30/20  \\\n",
       "0             US -14.271000 -170.132000  ...       0        0        0   \n",
       "1             US  13.444300  144.793700  ...     141      141      145   \n",
       "2             US  15.097900  145.673900  ...      14       14       14   \n",
       "3             US  18.220800  -66.590100  ...    1400     1433     1539   \n",
       "4             US  18.335800  -64.896300  ...      57       57       66   \n",
       "5             US  32.539527  -86.644082  ...      40       43       44   \n",
       "6             US  30.727750  -87.722071  ...     171      174      174   \n",
       "7             US  31.868263  -85.387129  ...      37       37       39   \n",
       "8             US  32.996421  -87.125115  ...      42       42       42   \n",
       "9             US  33.982109  -86.567906  ...      34       36       37   \n",
       "\n",
       "   5/1/20  5/2/20  5/3/20  5/4/20  5/5/20  5/6/20  5/7/20  \n",
       "0       0       0       0       0       0       0       0  \n",
       "1     145     145     145     145     145     149     149  \n",
       "2      14      14      14      14      14      15      15  \n",
       "3    1575    1757    1808    1843    1924    1968    2031  \n",
       "4      66      66      66      66      66      66      66  \n",
       "5      42      45      48      53      53      58      61  \n",
       "6     175     181     187     188     189     196     205  \n",
       "7      42      43      45      45      47      47      51  \n",
       "8      42      42      43      42      43      43      44  \n",
       "9      39      40      40      40      40      42      44  \n",
       "\n",
       "[10 rows x 118 columns]"
      ]
     },
     "execution_count": 5,
     "metadata": {},
     "output_type": "execute_result"
    }
   ],
   "source": [
    "# Note: data downloaded from CSSE Github on 5/7/20\n",
    "cases = pd.read_csv('data/time_series_covid19_confirmed_US.csv')\n",
    "cases.head(10)"
   ]
  },
  {
   "cell_type": "code",
   "execution_count": 6,
   "metadata": {},
   "outputs": [
    {
     "data": {
      "text/plain": [
       "(3244, 87)"
      ]
     },
     "execution_count": 6,
     "metadata": {},
     "output_type": "execute_result"
    }
   ],
   "source": [
    "demo.shape"
   ]
  },
  {
   "cell_type": "code",
   "execution_count": 7,
   "metadata": {},
   "outputs": [
    {
     "data": {
      "text/plain": [
       "Index(['countyFIPS', 'STATEFP', 'COUNTYFP', 'CountyName', 'StateName', 'State',\n",
       "       'lat', 'lon', 'POP_LATITUDE', 'POP_LONGITUDE', 'CensusRegionName',\n",
       "       'CensusDivisionName', 'Rural-UrbanContinuumCode2013',\n",
       "       'PopulationEstimate2018', 'PopTotalMale2017', 'PopTotalFemale2017',\n",
       "       'FracMale2017', 'PopulationEstimate65+2017',\n",
       "       'PopulationDensityperSqMile2010', 'CensusPopulation2010',\n",
       "       'MedianAge2010', '#EligibleforMedicare2018',\n",
       "       'MedicareEnrollment,AgedTot2017', '3-YrDiabetes2015-17',\n",
       "       'DiabetesPercentage', 'HeartDiseaseMortality', 'StrokeMortality',\n",
       "       'Smokers_Percentage', 'RespMortalityRate2014', '#FTEHospitalTotal2017',\n",
       "       'TotalM.D.'s,TotNon-FedandFed2017', '#HospParticipatinginNetwork2017',\n",
       "       '#Hospitals', '#ICU_beds', 'dem_to_rep_ratio', 'PopMale<52010',\n",
       "       'PopFmle<52010', 'PopMale5-92010', 'PopFmle5-92010', 'PopMale10-142010',\n",
       "       'PopFmle10-142010', 'PopMale15-192010', 'PopFmle15-192010',\n",
       "       'PopMale20-242010', 'PopFmle20-242010', 'PopMale25-292010',\n",
       "       'PopFmle25-292010', 'PopMale30-342010', 'PopFmle30-342010',\n",
       "       'PopMale35-442010', 'PopFmle35-442010', 'PopMale45-542010',\n",
       "       'PopFmle45-542010', 'PopMale55-592010', 'PopFmle55-592010',\n",
       "       'PopMale60-642010', 'PopFmle60-642010', 'PopMale65-742010',\n",
       "       'PopFmle65-742010', 'PopMale75-842010', 'PopFmle75-842010',\n",
       "       'PopMale>842010', 'PopFmle>842010', '3-YrMortalityAge<1Year2015-17',\n",
       "       '3-YrMortalityAge1-4Years2015-17', '3-YrMortalityAge5-14Years2015-17',\n",
       "       '3-YrMortalityAge15-24Years2015-17',\n",
       "       '3-YrMortalityAge25-34Years2015-17',\n",
       "       '3-YrMortalityAge35-44Years2015-17',\n",
       "       '3-YrMortalityAge45-54Years2015-17',\n",
       "       '3-YrMortalityAge55-64Years2015-17',\n",
       "       '3-YrMortalityAge65-74Years2015-17',\n",
       "       '3-YrMortalityAge75-84Years2015-17', '3-YrMortalityAge85+Years2015-17',\n",
       "       'mortality2015-17Estimated', 'stay at home', '>50 gatherings',\n",
       "       '>500 gatherings', 'public schools', 'restaurant dine-in',\n",
       "       'entertainment/gym', 'federal guidelines', 'foreign travel ban',\n",
       "       'SVIPercentile', 'HPSAShortage', 'HPSAServedPop', 'HPSAUnderservedPop'],\n",
       "      dtype='object')"
      ]
     },
     "execution_count": 7,
     "metadata": {},
     "output_type": "execute_result"
    }
   ],
   "source": [
    "demo.columns"
   ]
  },
  {
   "cell_type": "code",
   "execution_count": 8,
   "metadata": {},
   "outputs": [
    {
     "data": {
      "text/plain": [
       "countyFIPS                        0\n",
       "STATEFP                          23\n",
       "COUNTYFP                         23\n",
       "CountyName                        0\n",
       "StateName                         0\n",
       "State                           169\n",
       "lat                             169\n",
       "lon                             169\n",
       "POP_LATITUDE                     23\n",
       "POP_LONGITUDE                    23\n",
       "CensusRegionName                 98\n",
       "CensusDivisionName               98\n",
       "Rural-UrbanContinuumCode2013     24\n",
       "PopulationEstimate2018           23\n",
       "dtype: int64"
      ]
     },
     "execution_count": 8,
     "metadata": {},
     "output_type": "execute_result"
    }
   ],
   "source": [
    "demo.iloc[:, :14].isna().sum()"
   ]
  },
  {
   "cell_type": "code",
   "execution_count": 9,
   "metadata": {},
   "outputs": [
    {
     "data": {
      "text/plain": [
       "UID                0\n",
       "iso2               0\n",
       "iso3               0\n",
       "code3              0\n",
       "FIPS              10\n",
       "Admin2             7\n",
       "Province_State     0\n",
       "Country_Region     0\n",
       "Lat                0\n",
       "Long_              0\n",
       "Combined_Key       0\n",
       "Population         0\n",
       "1/22/20            0\n",
       "1/23/20            0\n",
       "dtype: int64"
      ]
     },
     "execution_count": 9,
     "metadata": {},
     "output_type": "execute_result"
    }
   ],
   "source": [
    "deaths.iloc[:, :14].isna().sum()"
   ]
  },
  {
   "cell_type": "code",
   "execution_count": 10,
   "metadata": {},
   "outputs": [
    {
     "data": {
      "text/plain": [
       "(3261, 119)"
      ]
     },
     "execution_count": 10,
     "metadata": {},
     "output_type": "execute_result"
    }
   ],
   "source": [
    "deaths.shape"
   ]
  },
  {
   "cell_type": "code",
   "execution_count": 11,
   "metadata": {},
   "outputs": [
    {
     "data": {
      "text/html": [
       "<div>\n",
       "<style scoped>\n",
       "    .dataframe tbody tr th:only-of-type {\n",
       "        vertical-align: middle;\n",
       "    }\n",
       "\n",
       "    .dataframe tbody tr th {\n",
       "        vertical-align: top;\n",
       "    }\n",
       "\n",
       "    .dataframe thead th {\n",
       "        text-align: right;\n",
       "    }\n",
       "</style>\n",
       "<table border=\"1\" class=\"dataframe\">\n",
       "  <thead>\n",
       "    <tr style=\"text-align: right;\">\n",
       "      <th></th>\n",
       "      <th>UID</th>\n",
       "      <th>iso2</th>\n",
       "      <th>iso3</th>\n",
       "      <th>code3</th>\n",
       "      <th>FIPS</th>\n",
       "      <th>Admin2</th>\n",
       "      <th>Province_State</th>\n",
       "      <th>Country_Region</th>\n",
       "      <th>Lat</th>\n",
       "      <th>Long_</th>\n",
       "      <th>...</th>\n",
       "      <th>4/28/20</th>\n",
       "      <th>4/29/20</th>\n",
       "      <th>4/30/20</th>\n",
       "      <th>5/1/20</th>\n",
       "      <th>5/2/20</th>\n",
       "      <th>5/3/20</th>\n",
       "      <th>5/4/20</th>\n",
       "      <th>5/5/20</th>\n",
       "      <th>5/6/20</th>\n",
       "      <th>5/7/20</th>\n",
       "    </tr>\n",
       "  </thead>\n",
       "  <tbody>\n",
       "    <tr>\n",
       "      <th>3147</th>\n",
       "      <td>84070002</td>\n",
       "      <td>US</td>\n",
       "      <td>USA</td>\n",
       "      <td>840</td>\n",
       "      <td>NaN</td>\n",
       "      <td>Dukes and Nantucket</td>\n",
       "      <td>Massachusetts</td>\n",
       "      <td>US</td>\n",
       "      <td>41.406747</td>\n",
       "      <td>-70.687635</td>\n",
       "      <td>...</td>\n",
       "      <td>1</td>\n",
       "      <td>1</td>\n",
       "      <td>1</td>\n",
       "      <td>1</td>\n",
       "      <td>1</td>\n",
       "      <td>1</td>\n",
       "      <td>1</td>\n",
       "      <td>1</td>\n",
       "      <td>1</td>\n",
       "      <td>1</td>\n",
       "    </tr>\n",
       "    <tr>\n",
       "      <th>3148</th>\n",
       "      <td>84070003</td>\n",
       "      <td>US</td>\n",
       "      <td>USA</td>\n",
       "      <td>840</td>\n",
       "      <td>NaN</td>\n",
       "      <td>Kansas City</td>\n",
       "      <td>Missouri</td>\n",
       "      <td>US</td>\n",
       "      <td>39.099700</td>\n",
       "      <td>-94.578600</td>\n",
       "      <td>...</td>\n",
       "      <td>16</td>\n",
       "      <td>16</td>\n",
       "      <td>16</td>\n",
       "      <td>16</td>\n",
       "      <td>16</td>\n",
       "      <td>16</td>\n",
       "      <td>16</td>\n",
       "      <td>16</td>\n",
       "      <td>16</td>\n",
       "      <td>16</td>\n",
       "    </tr>\n",
       "    <tr>\n",
       "      <th>3253</th>\n",
       "      <td>84070004</td>\n",
       "      <td>US</td>\n",
       "      <td>USA</td>\n",
       "      <td>840</td>\n",
       "      <td>NaN</td>\n",
       "      <td>Michigan Department of Corrections (MDOC)</td>\n",
       "      <td>Michigan</td>\n",
       "      <td>US</td>\n",
       "      <td>0.000000</td>\n",
       "      <td>0.000000</td>\n",
       "      <td>...</td>\n",
       "      <td>38</td>\n",
       "      <td>41</td>\n",
       "      <td>42</td>\n",
       "      <td>42</td>\n",
       "      <td>42</td>\n",
       "      <td>42</td>\n",
       "      <td>45</td>\n",
       "      <td>48</td>\n",
       "      <td>48</td>\n",
       "      <td>50</td>\n",
       "    </tr>\n",
       "    <tr>\n",
       "      <th>3254</th>\n",
       "      <td>84070005</td>\n",
       "      <td>US</td>\n",
       "      <td>USA</td>\n",
       "      <td>840</td>\n",
       "      <td>NaN</td>\n",
       "      <td>Federal Correctional Institution (FCI)</td>\n",
       "      <td>Michigan</td>\n",
       "      <td>US</td>\n",
       "      <td>0.000000</td>\n",
       "      <td>0.000000</td>\n",
       "      <td>...</td>\n",
       "      <td>1</td>\n",
       "      <td>1</td>\n",
       "      <td>2</td>\n",
       "      <td>2</td>\n",
       "      <td>2</td>\n",
       "      <td>2</td>\n",
       "      <td>2</td>\n",
       "      <td>2</td>\n",
       "      <td>2</td>\n",
       "      <td>3</td>\n",
       "    </tr>\n",
       "    <tr>\n",
       "      <th>3255</th>\n",
       "      <td>84070015</td>\n",
       "      <td>US</td>\n",
       "      <td>USA</td>\n",
       "      <td>840</td>\n",
       "      <td>NaN</td>\n",
       "      <td>Bear River</td>\n",
       "      <td>Utah</td>\n",
       "      <td>US</td>\n",
       "      <td>41.521068</td>\n",
       "      <td>-113.083282</td>\n",
       "      <td>...</td>\n",
       "      <td>1</td>\n",
       "      <td>1</td>\n",
       "      <td>1</td>\n",
       "      <td>1</td>\n",
       "      <td>1</td>\n",
       "      <td>1</td>\n",
       "      <td>1</td>\n",
       "      <td>1</td>\n",
       "      <td>1</td>\n",
       "      <td>1</td>\n",
       "    </tr>\n",
       "    <tr>\n",
       "      <th>3256</th>\n",
       "      <td>84070016</td>\n",
       "      <td>US</td>\n",
       "      <td>USA</td>\n",
       "      <td>840</td>\n",
       "      <td>NaN</td>\n",
       "      <td>Central Utah</td>\n",
       "      <td>Utah</td>\n",
       "      <td>US</td>\n",
       "      <td>39.372319</td>\n",
       "      <td>-111.575868</td>\n",
       "      <td>...</td>\n",
       "      <td>0</td>\n",
       "      <td>0</td>\n",
       "      <td>0</td>\n",
       "      <td>0</td>\n",
       "      <td>0</td>\n",
       "      <td>0</td>\n",
       "      <td>0</td>\n",
       "      <td>0</td>\n",
       "      <td>0</td>\n",
       "      <td>0</td>\n",
       "    </tr>\n",
       "    <tr>\n",
       "      <th>3257</th>\n",
       "      <td>84070017</td>\n",
       "      <td>US</td>\n",
       "      <td>USA</td>\n",
       "      <td>840</td>\n",
       "      <td>NaN</td>\n",
       "      <td>Southeast Utah</td>\n",
       "      <td>Utah</td>\n",
       "      <td>US</td>\n",
       "      <td>38.996171</td>\n",
       "      <td>-110.701396</td>\n",
       "      <td>...</td>\n",
       "      <td>0</td>\n",
       "      <td>0</td>\n",
       "      <td>0</td>\n",
       "      <td>0</td>\n",
       "      <td>0</td>\n",
       "      <td>0</td>\n",
       "      <td>0</td>\n",
       "      <td>0</td>\n",
       "      <td>0</td>\n",
       "      <td>0</td>\n",
       "    </tr>\n",
       "    <tr>\n",
       "      <th>3258</th>\n",
       "      <td>84070018</td>\n",
       "      <td>US</td>\n",
       "      <td>USA</td>\n",
       "      <td>840</td>\n",
       "      <td>NaN</td>\n",
       "      <td>Southwest Utah</td>\n",
       "      <td>Utah</td>\n",
       "      <td>US</td>\n",
       "      <td>37.854472</td>\n",
       "      <td>-111.441876</td>\n",
       "      <td>...</td>\n",
       "      <td>2</td>\n",
       "      <td>2</td>\n",
       "      <td>2</td>\n",
       "      <td>2</td>\n",
       "      <td>2</td>\n",
       "      <td>2</td>\n",
       "      <td>2</td>\n",
       "      <td>3</td>\n",
       "      <td>3</td>\n",
       "      <td>3</td>\n",
       "    </tr>\n",
       "    <tr>\n",
       "      <th>3259</th>\n",
       "      <td>84070019</td>\n",
       "      <td>US</td>\n",
       "      <td>USA</td>\n",
       "      <td>840</td>\n",
       "      <td>NaN</td>\n",
       "      <td>TriCounty</td>\n",
       "      <td>Utah</td>\n",
       "      <td>US</td>\n",
       "      <td>40.124915</td>\n",
       "      <td>-109.517442</td>\n",
       "      <td>...</td>\n",
       "      <td>0</td>\n",
       "      <td>0</td>\n",
       "      <td>0</td>\n",
       "      <td>0</td>\n",
       "      <td>0</td>\n",
       "      <td>0</td>\n",
       "      <td>0</td>\n",
       "      <td>0</td>\n",
       "      <td>0</td>\n",
       "      <td>0</td>\n",
       "    </tr>\n",
       "    <tr>\n",
       "      <th>3260</th>\n",
       "      <td>84070020</td>\n",
       "      <td>US</td>\n",
       "      <td>USA</td>\n",
       "      <td>840</td>\n",
       "      <td>NaN</td>\n",
       "      <td>Weber-Morgan</td>\n",
       "      <td>Utah</td>\n",
       "      <td>US</td>\n",
       "      <td>41.271160</td>\n",
       "      <td>-111.914512</td>\n",
       "      <td>...</td>\n",
       "      <td>2</td>\n",
       "      <td>2</td>\n",
       "      <td>2</td>\n",
       "      <td>2</td>\n",
       "      <td>2</td>\n",
       "      <td>2</td>\n",
       "      <td>2</td>\n",
       "      <td>2</td>\n",
       "      <td>2</td>\n",
       "      <td>2</td>\n",
       "    </tr>\n",
       "  </tbody>\n",
       "</table>\n",
       "<p>10 rows × 119 columns</p>\n",
       "</div>"
      ],
      "text/plain": [
       "           UID iso2 iso3  code3  FIPS  \\\n",
       "3147  84070002   US  USA    840   NaN   \n",
       "3148  84070003   US  USA    840   NaN   \n",
       "3253  84070004   US  USA    840   NaN   \n",
       "3254  84070005   US  USA    840   NaN   \n",
       "3255  84070015   US  USA    840   NaN   \n",
       "3256  84070016   US  USA    840   NaN   \n",
       "3257  84070017   US  USA    840   NaN   \n",
       "3258  84070018   US  USA    840   NaN   \n",
       "3259  84070019   US  USA    840   NaN   \n",
       "3260  84070020   US  USA    840   NaN   \n",
       "\n",
       "                                         Admin2 Province_State Country_Region  \\\n",
       "3147                        Dukes and Nantucket  Massachusetts             US   \n",
       "3148                                Kansas City       Missouri             US   \n",
       "3253  Michigan Department of Corrections (MDOC)       Michigan             US   \n",
       "3254     Federal Correctional Institution (FCI)       Michigan             US   \n",
       "3255                                 Bear River           Utah             US   \n",
       "3256                               Central Utah           Utah             US   \n",
       "3257                             Southeast Utah           Utah             US   \n",
       "3258                             Southwest Utah           Utah             US   \n",
       "3259                                  TriCounty           Utah             US   \n",
       "3260                               Weber-Morgan           Utah             US   \n",
       "\n",
       "            Lat       Long_  ... 4/28/20  4/29/20  4/30/20  5/1/20  5/2/20  \\\n",
       "3147  41.406747  -70.687635  ...       1        1        1       1       1   \n",
       "3148  39.099700  -94.578600  ...      16       16       16      16      16   \n",
       "3253   0.000000    0.000000  ...      38       41       42      42      42   \n",
       "3254   0.000000    0.000000  ...       1        1        2       2       2   \n",
       "3255  41.521068 -113.083282  ...       1        1        1       1       1   \n",
       "3256  39.372319 -111.575868  ...       0        0        0       0       0   \n",
       "3257  38.996171 -110.701396  ...       0        0        0       0       0   \n",
       "3258  37.854472 -111.441876  ...       2        2        2       2       2   \n",
       "3259  40.124915 -109.517442  ...       0        0        0       0       0   \n",
       "3260  41.271160 -111.914512  ...       2        2        2       2       2   \n",
       "\n",
       "      5/3/20  5/4/20  5/5/20  5/6/20  5/7/20  \n",
       "3147       1       1       1       1       1  \n",
       "3148      16      16      16      16      16  \n",
       "3253      42      45      48      48      50  \n",
       "3254       2       2       2       2       3  \n",
       "3255       1       1       1       1       1  \n",
       "3256       0       0       0       0       0  \n",
       "3257       0       0       0       0       0  \n",
       "3258       2       2       3       3       3  \n",
       "3259       0       0       0       0       0  \n",
       "3260       2       2       2       2       2  \n",
       "\n",
       "[10 rows x 119 columns]"
      ]
     },
     "execution_count": 11,
     "metadata": {},
     "output_type": "execute_result"
    }
   ],
   "source": [
    "deaths[deaths['FIPS'].isna()]"
   ]
  },
  {
   "cell_type": "code",
   "execution_count": 12,
   "metadata": {},
   "outputs": [],
   "source": [
    "# dropping these 10 rows should not bias our analysis later on\n",
    "deaths['FIPS'] = deaths['FIPS'].fillna(-1).astype(int)"
   ]
  },
  {
   "cell_type": "code",
   "execution_count": 13,
   "metadata": {},
   "outputs": [
    {
     "data": {
      "text/plain": [
       "UID                0\n",
       "iso2               0\n",
       "iso3               0\n",
       "code3              0\n",
       "FIPS              10\n",
       "Admin2             7\n",
       "Province_State     0\n",
       "Country_Region     0\n",
       "Lat                0\n",
       "Long_              0\n",
       "Combined_Key       0\n",
       "1/22/20            0\n",
       "1/23/20            0\n",
       "1/24/20            0\n",
       "dtype: int64"
      ]
     },
     "execution_count": 13,
     "metadata": {},
     "output_type": "execute_result"
    }
   ],
   "source": [
    "cases.iloc[:, :14].isna().sum()"
   ]
  },
  {
   "cell_type": "code",
   "execution_count": 14,
   "metadata": {},
   "outputs": [],
   "source": [
    "cases['FIPS'] = cases['FIPS'].fillna(-1).astype(int)"
   ]
  },
  {
   "cell_type": "code",
   "execution_count": 15,
   "metadata": {},
   "outputs": [
    {
     "data": {
      "text/plain": [
       "True     3242\n",
       "False       2\n",
       "Name: countyFIPS, dtype: int64"
      ]
     },
     "execution_count": 15,
     "metadata": {},
     "output_type": "execute_result"
    }
   ],
   "source": [
    "demo['countyFIPS'].str.isnumeric().value_counts()"
   ]
  },
  {
   "cell_type": "code",
   "execution_count": 16,
   "metadata": {},
   "outputs": [
    {
     "data": {
      "text/html": [
       "<div>\n",
       "<style scoped>\n",
       "    .dataframe tbody tr th:only-of-type {\n",
       "        vertical-align: middle;\n",
       "    }\n",
       "\n",
       "    .dataframe tbody tr th {\n",
       "        vertical-align: top;\n",
       "    }\n",
       "\n",
       "    .dataframe thead th {\n",
       "        text-align: right;\n",
       "    }\n",
       "</style>\n",
       "<table border=\"1\" class=\"dataframe\">\n",
       "  <thead>\n",
       "    <tr style=\"text-align: right;\">\n",
       "      <th></th>\n",
       "      <th>countyFIPS</th>\n",
       "      <th>STATEFP</th>\n",
       "      <th>COUNTYFP</th>\n",
       "      <th>CountyName</th>\n",
       "      <th>StateName</th>\n",
       "      <th>State</th>\n",
       "      <th>lat</th>\n",
       "      <th>lon</th>\n",
       "      <th>POP_LATITUDE</th>\n",
       "      <th>POP_LONGITUDE</th>\n",
       "      <th>...</th>\n",
       "      <th>&gt;500 gatherings</th>\n",
       "      <th>public schools</th>\n",
       "      <th>restaurant dine-in</th>\n",
       "      <th>entertainment/gym</th>\n",
       "      <th>federal guidelines</th>\n",
       "      <th>foreign travel ban</th>\n",
       "      <th>SVIPercentile</th>\n",
       "      <th>HPSAShortage</th>\n",
       "      <th>HPSAServedPop</th>\n",
       "      <th>HPSAUnderservedPop</th>\n",
       "    </tr>\n",
       "  </thead>\n",
       "  <tbody>\n",
       "    <tr>\n",
       "      <th>3242</th>\n",
       "      <td>City1</td>\n",
       "      <td>NaN</td>\n",
       "      <td>NaN</td>\n",
       "      <td>New York City</td>\n",
       "      <td>NY</td>\n",
       "      <td>NaN</td>\n",
       "      <td>NaN</td>\n",
       "      <td>NaN</td>\n",
       "      <td>NaN</td>\n",
       "      <td>NaN</td>\n",
       "      <td>...</td>\n",
       "      <td>NaN</td>\n",
       "      <td>NaN</td>\n",
       "      <td>NaN</td>\n",
       "      <td>NaN</td>\n",
       "      <td>NaN</td>\n",
       "      <td>NaN</td>\n",
       "      <td>NaN</td>\n",
       "      <td>NaN</td>\n",
       "      <td>NaN</td>\n",
       "      <td>NaN</td>\n",
       "    </tr>\n",
       "    <tr>\n",
       "      <th>3243</th>\n",
       "      <td>City2</td>\n",
       "      <td>NaN</td>\n",
       "      <td>NaN</td>\n",
       "      <td>Kansas City</td>\n",
       "      <td>MO</td>\n",
       "      <td>NaN</td>\n",
       "      <td>NaN</td>\n",
       "      <td>NaN</td>\n",
       "      <td>NaN</td>\n",
       "      <td>NaN</td>\n",
       "      <td>...</td>\n",
       "      <td>NaN</td>\n",
       "      <td>NaN</td>\n",
       "      <td>NaN</td>\n",
       "      <td>NaN</td>\n",
       "      <td>NaN</td>\n",
       "      <td>NaN</td>\n",
       "      <td>NaN</td>\n",
       "      <td>NaN</td>\n",
       "      <td>NaN</td>\n",
       "      <td>NaN</td>\n",
       "    </tr>\n",
       "  </tbody>\n",
       "</table>\n",
       "<p>2 rows × 87 columns</p>\n",
       "</div>"
      ],
      "text/plain": [
       "     countyFIPS  STATEFP  COUNTYFP     CountyName StateName State  lat  lon  \\\n",
       "3242      City1      NaN       NaN  New York City        NY   NaN  NaN  NaN   \n",
       "3243      City2      NaN       NaN    Kansas City        MO   NaN  NaN  NaN   \n",
       "\n",
       "      POP_LATITUDE  POP_LONGITUDE  ... >500 gatherings public schools  \\\n",
       "3242           NaN            NaN  ...             NaN            NaN   \n",
       "3243           NaN            NaN  ...             NaN            NaN   \n",
       "\n",
       "      restaurant dine-in  entertainment/gym  federal guidelines  \\\n",
       "3242                 NaN                NaN                 NaN   \n",
       "3243                 NaN                NaN                 NaN   \n",
       "\n",
       "      foreign travel ban  SVIPercentile  HPSAShortage  HPSAServedPop  \\\n",
       "3242                 NaN            NaN           NaN            NaN   \n",
       "3243                 NaN            NaN           NaN            NaN   \n",
       "\n",
       "      HPSAUnderservedPop  \n",
       "3242                 NaN  \n",
       "3243                 NaN  \n",
       "\n",
       "[2 rows x 87 columns]"
      ]
     },
     "execution_count": 16,
     "metadata": {},
     "output_type": "execute_result"
    }
   ],
   "source": [
    "demo.iloc[-2:]"
   ]
  },
  {
   "cell_type": "code",
   "execution_count": 17,
   "metadata": {},
   "outputs": [
    {
     "data": {
      "text/plain": [
       "True    3242\n",
       "Name: countyFIPS, dtype: int64"
      ]
     },
     "execution_count": 17,
     "metadata": {},
     "output_type": "execute_result"
    }
   ],
   "source": [
    "# since there appears to be no info for these 2 rows, we will drop them\n",
    "demo = demo.iloc[:-2]\n",
    "demo['countyFIPS'].str.isnumeric().value_counts()"
   ]
  },
  {
   "cell_type": "code",
   "execution_count": 18,
   "metadata": {},
   "outputs": [],
   "source": [
    "demo['FIPS'] = demo['countyFIPS'].astype(int)"
   ]
  },
  {
   "cell_type": "code",
   "execution_count": 19,
   "metadata": {},
   "outputs": [
    {
     "name": "stdout",
     "output_type": "stream",
     "text": [
      "3261 3261\n",
      "3140 3140\n"
     ]
    }
   ],
   "source": [
    "# now we can merge demo data with ts data on FIPS\n",
    "print(len(deaths), len(cases))\n",
    "deaths = deaths.merge(demo, on = 'FIPS')\n",
    "cases = cases.merge(demo, on = 'FIPS')\n",
    "print(len(deaths), len(cases))\n"
   ]
  },
  {
   "cell_type": "markdown",
   "metadata": {},
   "source": [
    "# Death Rate"
   ]
  },
  {
   "cell_type": "markdown",
   "metadata": {},
   "source": [
    "### Hypothesis: Hospital Quality and Age will be correlated to death rate"
   ]
  },
  {
   "cell_type": "code",
   "execution_count": 20,
   "metadata": {},
   "outputs": [],
   "source": [
    "death_rate = 100*deaths['5/6/20']/cases['5/6/20'].fillna(0)"
   ]
  },
  {
   "cell_type": "code",
   "execution_count": 21,
   "metadata": {},
   "outputs": [
    {
     "name": "stdout",
     "output_type": "stream",
     "text": [
      "average mortality rate: 3.612419113481636\n",
      "varaince in mortality rate: 41.74665295054812\n",
      "max mortality rate: 100.0\n",
      "min mortality rate: 0.0\n"
     ]
    }
   ],
   "source": [
    "print('average mortality rate:', death_rate.mean())\n",
    "print('varaince in mortality rate:', death_rate.var())\n",
    "print('max mortality rate:', death_rate.max())\n",
    "print('min mortality rate:', death_rate.min())"
   ]
  },
  {
   "cell_type": "code",
   "execution_count": 22,
   "metadata": {},
   "outputs": [
    {
     "data": {
      "text/plain": [
       "<matplotlib.axes._subplots.AxesSubplot at 0x1a1f5b1750>"
      ]
     },
     "execution_count": 22,
     "metadata": {},
     "output_type": "execute_result"
    },
    {
     "data": {
      "image/png": "[encoded data removed]",
      "text/plain": [
       "<Figure size 432x288 with 1 Axes>"
      ]
     },
     "metadata": {
      "needs_background": "light"
     },
     "output_type": "display_data"
    }
   ],
   "source": [
    "sns.boxplot(death_rate)"
   ]
  },
  {
   "cell_type": "code",
   "execution_count": 23,
   "metadata": {},
   "outputs": [
    {
     "data": {
      "text/plain": [
       "55"
      ]
     },
     "execution_count": 23,
     "metadata": {},
     "output_type": "execute_result"
    }
   ],
   "source": [
    "death_rate[death_rate > 20].count()"
   ]
  },
  {
   "cell_type": "code",
   "execution_count": 24,
   "metadata": {},
   "outputs": [
    {
     "data": {
      "text/plain": [
       "<matplotlib.collections.PathCollection at 0x1a1fd13e90>"
      ]
     },
     "execution_count": 24,
     "metadata": {},
     "output_type": "execute_result"
    },
    {
     "data": {
      "image/png": "[encoded data removed]",
      "text/plain": [
       "<Figure size 432x288 with 1 Axes>"
      ]
     },
     "metadata": {
      "needs_background": "light"
     },
     "output_type": "display_data"
    }
   ],
   "source": [
    "plt.scatter(cases['5/6/20'], death_rate)"
   ]
  },
  {
   "cell_type": "code",
   "execution_count": 110,
   "metadata": {},
   "outputs": [
    {
     "data": {
      "text/plain": [
       "(0, 10000)"
      ]
     },
     "execution_count": 110,
     "metadata": {},
     "output_type": "execute_result"
    },
    {
     "data": {
      "image/png": "[encoded data removed]",
      "text/plain": [
       "<Figure size 432x288 with 1 Axes>"
      ]
     },
     "metadata": {
      "needs_background": "light"
     },
     "output_type": "display_data"
    }
   ],
   "source": [
    "plt.scatter(cases['5/6/20'], death_rate)\n",
    "plt.xlim([0, 10000])"
   ]
  },
  {
   "cell_type": "code",
   "execution_count": 80,
   "metadata": {},
   "outputs": [
    {
     "data": {
      "text/plain": [
       "1/22/20    0\n",
       "1/23/20    0\n",
       "1/24/20    0\n",
       "1/25/20    0\n",
       "1/26/20    0\n",
       "          ..\n",
       "5/2/20     0\n",
       "5/3/20     0\n",
       "5/4/20     0\n",
       "5/5/20     0\n",
       "5/6/20     0\n",
       "Name: 2962, Length: 106, dtype: object"
      ]
     },
     "execution_count": 80,
     "metadata": {},
     "output_type": "execute_result"
    }
   ],
   "source": [
    "deaths.iloc[2962].loc['1/22/20':'5/6/20']"
   ]
  },
  {
   "cell_type": "code",
   "execution_count": 32,
   "metadata": {},
   "outputs": [],
   "source": [
    "cases['death_rate'] = death_rate\n",
    "cases = cases.rename(columns = {'5/6/20' : 'cur_cases'})"
   ]
  },
  {
   "cell_type": "code",
   "execution_count": 33,
   "metadata": {},
   "outputs": [],
   "source": [
    "cases_filtered = cases[cases['cur_cases'] > 50]"
   ]
  },
  {
   "cell_type": "code",
   "execution_count": 34,
   "metadata": {},
   "outputs": [
    {
     "data": {
      "text/plain": [
       "Index(['UID', 'iso2', 'iso3', 'code3', 'FIPS', 'Admin2', 'Province_State',\n",
       "       'Country_Region', 'Lat', 'Long_',\n",
       "       ...\n",
       "       'public schools', 'restaurant dine-in', 'entertainment/gym',\n",
       "       'federal guidelines', 'foreign travel ban', 'SVIPercentile',\n",
       "       'HPSAShortage', 'HPSAServedPop', 'HPSAUnderservedPop', 'death_rate'],\n",
       "      dtype='object', length=206)"
      ]
     },
     "execution_count": 34,
     "metadata": {},
     "output_type": "execute_result"
    }
   ],
   "source": [
    "cases.columns"
   ]
  },
  {
   "cell_type": "code",
   "execution_count": 38,
   "metadata": {},
   "outputs": [
    {
     "data": {
      "text/html": [
       "<div>\n",
       "<style scoped>\n",
       "    .dataframe tbody tr th:only-of-type {\n",
       "        vertical-align: middle;\n",
       "    }\n",
       "\n",
       "    .dataframe tbody tr th {\n",
       "        vertical-align: top;\n",
       "    }\n",
       "\n",
       "    .dataframe thead th {\n",
       "        text-align: right;\n",
       "    }\n",
       "</style>\n",
       "<table border=\"1\" class=\"dataframe\">\n",
       "  <thead>\n",
       "    <tr style=\"text-align: right;\">\n",
       "      <th></th>\n",
       "      <th>FIPS</th>\n",
       "      <th>State</th>\n",
       "      <th>Area_name</th>\n",
       "      <th>Rural_urban_continuum_code_2013</th>\n",
       "      <th>Urban_influence_code_2013</th>\n",
       "      <th>Metro_2013</th>\n",
       "      <th>Civilian_labor_force_2007</th>\n",
       "      <th>Employed_2007</th>\n",
       "      <th>Unemployed_2007</th>\n",
       "      <th>Unemployment_rate_2007</th>\n",
       "      <th>...</th>\n",
       "      <th>Civilian_labor_force_2017</th>\n",
       "      <th>Employed_2017</th>\n",
       "      <th>Unemployed_2017</th>\n",
       "      <th>Unemployment_rate_2017</th>\n",
       "      <th>Civilian_labor_force_2018</th>\n",
       "      <th>Employed_2018</th>\n",
       "      <th>Unemployed_2018</th>\n",
       "      <th>Unemployment_rate_2018</th>\n",
       "      <th>Median_Household_Income_2018</th>\n",
       "      <th>Med_HH_Income_Percent_of_State_Total_2018</th>\n",
       "    </tr>\n",
       "  </thead>\n",
       "  <tbody>\n",
       "    <tr>\n",
       "      <th>0</th>\n",
       "      <td>0</td>\n",
       "      <td>US</td>\n",
       "      <td>United States</td>\n",
       "      <td>NaN</td>\n",
       "      <td>NaN</td>\n",
       "      <td>NaN</td>\n",
       "      <td>152191093.0</td>\n",
       "      <td>145156134.0</td>\n",
       "      <td>7034959.0</td>\n",
       "      <td>4.6</td>\n",
       "      <td>...</td>\n",
       "      <td>160273906.0</td>\n",
       "      <td>153293830.0</td>\n",
       "      <td>6980076.0</td>\n",
       "      <td>4.36</td>\n",
       "      <td>161640488.0</td>\n",
       "      <td>155344043.0</td>\n",
       "      <td>6296445.0</td>\n",
       "      <td>3.9</td>\n",
       "      <td>61937.0</td>\n",
       "      <td>NaN</td>\n",
       "    </tr>\n",
       "    <tr>\n",
       "      <th>1</th>\n",
       "      <td>1000</td>\n",
       "      <td>AL</td>\n",
       "      <td>Alabama</td>\n",
       "      <td>NaN</td>\n",
       "      <td>NaN</td>\n",
       "      <td>NaN</td>\n",
       "      <td>2175612.0</td>\n",
       "      <td>2089127.0</td>\n",
       "      <td>86485.0</td>\n",
       "      <td>4.0</td>\n",
       "      <td>...</td>\n",
       "      <td>2178243.0</td>\n",
       "      <td>2081676.0</td>\n",
       "      <td>96567.0</td>\n",
       "      <td>4.40</td>\n",
       "      <td>2198837.0</td>\n",
       "      <td>2112347.0</td>\n",
       "      <td>86490.0</td>\n",
       "      <td>3.9</td>\n",
       "      <td>49881.0</td>\n",
       "      <td>100.0000</td>\n",
       "    </tr>\n",
       "    <tr>\n",
       "      <th>2</th>\n",
       "      <td>1001</td>\n",
       "      <td>AL</td>\n",
       "      <td>Autauga County, AL</td>\n",
       "      <td>2.0</td>\n",
       "      <td>2.0</td>\n",
       "      <td>1.0</td>\n",
       "      <td>24383.0</td>\n",
       "      <td>23577.0</td>\n",
       "      <td>806.0</td>\n",
       "      <td>3.3</td>\n",
       "      <td>...</td>\n",
       "      <td>25972.0</td>\n",
       "      <td>24958.0</td>\n",
       "      <td>1014.0</td>\n",
       "      <td>3.90</td>\n",
       "      <td>25957.0</td>\n",
       "      <td>25015.0</td>\n",
       "      <td>942.0</td>\n",
       "      <td>3.6</td>\n",
       "      <td>59338.0</td>\n",
       "      <td>118.9591</td>\n",
       "    </tr>\n",
       "    <tr>\n",
       "      <th>3</th>\n",
       "      <td>1003</td>\n",
       "      <td>AL</td>\n",
       "      <td>Baldwin County, AL</td>\n",
       "      <td>3.0</td>\n",
       "      <td>2.0</td>\n",
       "      <td>1.0</td>\n",
       "      <td>82659.0</td>\n",
       "      <td>80099.0</td>\n",
       "      <td>2560.0</td>\n",
       "      <td>3.1</td>\n",
       "      <td>...</td>\n",
       "      <td>92090.0</td>\n",
       "      <td>88342.0</td>\n",
       "      <td>3748.0</td>\n",
       "      <td>4.10</td>\n",
       "      <td>93849.0</td>\n",
       "      <td>90456.0</td>\n",
       "      <td>3393.0</td>\n",
       "      <td>3.6</td>\n",
       "      <td>57588.0</td>\n",
       "      <td>115.4508</td>\n",
       "    </tr>\n",
       "    <tr>\n",
       "      <th>4</th>\n",
       "      <td>1005</td>\n",
       "      <td>AL</td>\n",
       "      <td>Barbour County, AL</td>\n",
       "      <td>6.0</td>\n",
       "      <td>6.0</td>\n",
       "      <td>0.0</td>\n",
       "      <td>10334.0</td>\n",
       "      <td>9684.0</td>\n",
       "      <td>650.0</td>\n",
       "      <td>6.3</td>\n",
       "      <td>...</td>\n",
       "      <td>8317.0</td>\n",
       "      <td>7831.0</td>\n",
       "      <td>486.0</td>\n",
       "      <td>5.80</td>\n",
       "      <td>8373.0</td>\n",
       "      <td>7940.0</td>\n",
       "      <td>433.0</td>\n",
       "      <td>5.2</td>\n",
       "      <td>34382.0</td>\n",
       "      <td>68.9280</td>\n",
       "    </tr>\n",
       "  </tbody>\n",
       "</table>\n",
       "<p>5 rows × 56 columns</p>\n",
       "</div>"
      ],
      "text/plain": [
       "   FIPS State           Area_name  Rural_urban_continuum_code_2013  \\\n",
       "0     0    US       United States                              NaN   \n",
       "1  1000    AL             Alabama                              NaN   \n",
       "2  1001    AL  Autauga County, AL                              2.0   \n",
       "3  1003    AL  Baldwin County, AL                              3.0   \n",
       "4  1005    AL  Barbour County, AL                              6.0   \n",
       "\n",
       "   Urban_influence_code_2013  Metro_2013  Civilian_labor_force_2007  \\\n",
       "0                        NaN         NaN                152191093.0   \n",
       "1                        NaN         NaN                  2175612.0   \n",
       "2                        2.0         1.0                    24383.0   \n",
       "3                        2.0         1.0                    82659.0   \n",
       "4                        6.0         0.0                    10334.0   \n",
       "\n",
       "   Employed_2007  Unemployed_2007  Unemployment_rate_2007  ...  \\\n",
       "0    145156134.0        7034959.0                     4.6  ...   \n",
       "1      2089127.0          86485.0                     4.0  ...   \n",
       "2        23577.0            806.0                     3.3  ...   \n",
       "3        80099.0           2560.0                     3.1  ...   \n",
       "4         9684.0            650.0                     6.3  ...   \n",
       "\n",
       "   Civilian_labor_force_2017  Employed_2017  Unemployed_2017  \\\n",
       "0                160273906.0    153293830.0        6980076.0   \n",
       "1                  2178243.0      2081676.0          96567.0   \n",
       "2                    25972.0        24958.0           1014.0   \n",
       "3                    92090.0        88342.0           3748.0   \n",
       "4                     8317.0         7831.0            486.0   \n",
       "\n",
       "   Unemployment_rate_2017  Civilian_labor_force_2018  Employed_2018  \\\n",
       "0                    4.36                161640488.0    155344043.0   \n",
       "1                    4.40                  2198837.0      2112347.0   \n",
       "2                    3.90                    25957.0        25015.0   \n",
       "3                    4.10                    93849.0        90456.0   \n",
       "4                    5.80                     8373.0         7940.0   \n",
       "\n",
       "   Unemployed_2018  Unemployment_rate_2018  Median_Household_Income_2018  \\\n",
       "0        6296445.0                     3.9                       61937.0   \n",
       "1          86490.0                     3.9                       49881.0   \n",
       "2            942.0                     3.6                       59338.0   \n",
       "3           3393.0                     3.6                       57588.0   \n",
       "4            433.0                     5.2                       34382.0   \n",
       "\n",
       "   Med_HH_Income_Percent_of_State_Total_2018  \n",
       "0                                        NaN  \n",
       "1                                   100.0000  \n",
       "2                                   118.9591  \n",
       "3                                   115.4508  \n",
       "4                                    68.9280  \n",
       "\n",
       "[5 rows x 56 columns]"
      ]
     },
     "execution_count": 38,
     "metadata": {},
     "output_type": "execute_result"
    }
   ],
   "source": [
    "income = pd.read_excel('data/Unemployment.xls', header = 4)\n",
    "income.head()"
   ]
  },
  {
   "cell_type": "code",
   "execution_count": 39,
   "metadata": {},
   "outputs": [
    {
     "data": {
      "text/html": [
       "<div>\n",
       "<style scoped>\n",
       "    .dataframe tbody tr th:only-of-type {\n",
       "        vertical-align: middle;\n",
       "    }\n",
       "\n",
       "    .dataframe tbody tr th {\n",
       "        vertical-align: top;\n",
       "    }\n",
       "\n",
       "    .dataframe thead th {\n",
       "        text-align: right;\n",
       "    }\n",
       "</style>\n",
       "<table border=\"1\" class=\"dataframe\">\n",
       "  <thead>\n",
       "    <tr style=\"text-align: right;\">\n",
       "      <th></th>\n",
       "      <th>FIPS</th>\n",
       "      <th>Median_Household_Income_2018</th>\n",
       "    </tr>\n",
       "  </thead>\n",
       "  <tbody>\n",
       "    <tr>\n",
       "      <th>0</th>\n",
       "      <td>0</td>\n",
       "      <td>61937.0</td>\n",
       "    </tr>\n",
       "    <tr>\n",
       "      <th>1</th>\n",
       "      <td>1000</td>\n",
       "      <td>49881.0</td>\n",
       "    </tr>\n",
       "    <tr>\n",
       "      <th>2</th>\n",
       "      <td>1001</td>\n",
       "      <td>59338.0</td>\n",
       "    </tr>\n",
       "    <tr>\n",
       "      <th>3</th>\n",
       "      <td>1003</td>\n",
       "      <td>57588.0</td>\n",
       "    </tr>\n",
       "    <tr>\n",
       "      <th>4</th>\n",
       "      <td>1005</td>\n",
       "      <td>34382.0</td>\n",
       "    </tr>\n",
       "    <tr>\n",
       "      <th>...</th>\n",
       "      <td>...</td>\n",
       "      <td>...</td>\n",
       "    </tr>\n",
       "    <tr>\n",
       "      <th>3270</th>\n",
       "      <td>72145</td>\n",
       "      <td>NaN</td>\n",
       "    </tr>\n",
       "    <tr>\n",
       "      <th>3271</th>\n",
       "      <td>72147</td>\n",
       "      <td>NaN</td>\n",
       "    </tr>\n",
       "    <tr>\n",
       "      <th>3272</th>\n",
       "      <td>72149</td>\n",
       "      <td>NaN</td>\n",
       "    </tr>\n",
       "    <tr>\n",
       "      <th>3273</th>\n",
       "      <td>72151</td>\n",
       "      <td>NaN</td>\n",
       "    </tr>\n",
       "    <tr>\n",
       "      <th>3274</th>\n",
       "      <td>72153</td>\n",
       "      <td>NaN</td>\n",
       "    </tr>\n",
       "  </tbody>\n",
       "</table>\n",
       "<p>3275 rows × 2 columns</p>\n",
       "</div>"
      ],
      "text/plain": [
       "       FIPS  Median_Household_Income_2018\n",
       "0         0                       61937.0\n",
       "1      1000                       49881.0\n",
       "2      1001                       59338.0\n",
       "3      1003                       57588.0\n",
       "4      1005                       34382.0\n",
       "...     ...                           ...\n",
       "3270  72145                           NaN\n",
       "3271  72147                           NaN\n",
       "3272  72149                           NaN\n",
       "3273  72151                           NaN\n",
       "3274  72153                           NaN\n",
       "\n",
       "[3275 rows x 2 columns]"
      ]
     },
     "execution_count": 39,
     "metadata": {},
     "output_type": "execute_result"
    }
   ],
   "source": [
    "income = income[['FIPS', 'Median_Household_Income_2018']]\n",
    "income"
   ]
  },
  {
   "cell_type": "code",
   "execution_count": 40,
   "metadata": {},
   "outputs": [],
   "source": [
    "income['FIPS'] = income['FIPS'].astype(int)"
   ]
  },
  {
   "cell_type": "code",
   "execution_count": 42,
   "metadata": {},
   "outputs": [],
   "source": [
    "income_v_dr = cases_filtered[['FIPS', 'death_rate']].merge(income, on = 'FIPS')"
   ]
  },
  {
   "cell_type": "code",
   "execution_count": 140,
   "metadata": {},
   "outputs": [
    {
     "data": {
      "text/plain": [
       "Text(0, 0.5, 'Death Rate as of 5/6/20')"
      ]
     },
     "execution_count": 140,
     "metadata": {},
     "output_type": "execute_result"
    },
    {
     "data": {
      "image/png": "[encoded data removed]",
      "text/plain": [
       "<Figure size 432x288 with 1 Axes>"
      ]
     },
     "metadata": {
      "needs_background": "light"
     },
     "output_type": "display_data"
    }
   ],
   "source": [
    "plt.scatter(income_v_dr['Median_Household_Income_2018'], income_v_dr['death_rate'])\n",
    "plt.title('Median Household Income (2018) vs Death Rate as of 5/6/20')\n",
    "plt.xlabel('Median Household Income (2018)')\n",
    "plt.ylabel('Death Rate as of 5/6/20')"
   ]
  },
  {
   "cell_type": "markdown",
   "metadata": {},
   "source": [
    "This plot suggests an inverse relationship. While there is not a perfect correlation here, I think this suggests that median household income will be a good feature to use when predicting death rate."
   ]
  },
  {
   "cell_type": "code",
   "execution_count": 57,
   "metadata": {},
   "outputs": [
    {
     "name": "stderr",
     "output_type": "stream",
     "text": [
      "/opt/anaconda3/lib/python3.7/site-packages/ipykernel_launcher.py:4: SettingWithCopyWarning: \n",
      "A value is trying to be set on a copy of a slice from a DataFrame.\n",
      "Try using .loc[row_indexer,col_indexer] = value instead\n",
      "\n",
      "See the caveats in the documentation: https://pandas.pydata.org/pandas-docs/stable/user_guide/indexing.html#returning-a-view-versus-a-copy\n",
      "  after removing the cwd from sys.path.\n"
     ]
    }
   ],
   "source": [
    "cases_filtered['over_65_2010'] = ((cases_filtered['PopMale75-842010'] + cases_filtered['PopFmle75-842010']\n",
    "                                  + cases_filtered['PopMale75-842010'] + cases_filtered['PopFmle75-842010'] \n",
    "                                  + cases_filtered['PopMale>842010'] + cases_filtered['PopFmle>842010']) / \n",
    "                                  cases_filtered['CensusPopulation2010'])"
   ]
  },
  {
   "cell_type": "code",
   "execution_count": 72,
   "metadata": {},
   "outputs": [
    {
     "data": {
      "text/plain": [
       "Text(0, 0.5, 'Death Rate as of 5/6/20')"
      ]
     },
     "execution_count": 72,
     "metadata": {},
     "output_type": "execute_result"
    },
    {
     "data": {
      "image/png": "[encoded data removed]",
      "text/plain": [
       "<Figure size 432x288 with 1 Axes>"
      ]
     },
     "metadata": {
      "needs_background": "light"
     },
     "output_type": "display_data"
    }
   ],
   "source": [
    "plt.scatter(100 * cases_filtered['PopulationEstimate65+2017']/cases_filtered['PopulationEstimate2018'], cases_filtered['death_rate'])\n",
    "plt.title('Estimated % of Population over 65 (2017) vs Death Rate as of 5/6/20')\n",
    "plt.xlabel('Estimated % of Population over 65 (2017)')\n",
    "plt.ylabel('Death Rate as of 5/6/20')"
   ]
  },
  {
   "cell_type": "markdown",
   "metadata": {},
   "source": [
    "Based on this plot, age does not seem like a good feature to use when trying to predict death rate. In fact, it appears that the higher death rate."
   ]
  },
  {
   "cell_type": "code",
   "execution_count": 67,
   "metadata": {},
   "outputs": [
    {
     "data": {
      "text/plain": [
       "Text(0, 0.5, 'Death Rate as of 5/6/20')"
      ]
     },
     "execution_count": 67,
     "metadata": {},
     "output_type": "execute_result"
    },
    {
     "data": {
      "image/png": "[encoded data removed]",
      "text/plain": [
       "<Figure size 432x288 with 1 Axes>"
      ]
     },
     "metadata": {
      "needs_background": "light"
     },
     "output_type": "display_data"
    }
   ],
   "source": [
    "plt.scatter(100 * cases_filtered['SVIPercentile'], cases_filtered['death_rate'])\n",
    "plt.title('CDC Social Vulnerability Index vs Death Rate as of 5/6/20')\n",
    "plt.xlabel('CDC Social Vulnerability Index')\n",
    "plt.ylabel('Death Rate as of 5/6/20')"
   ]
  },
  {
   "cell_type": "markdown",
   "metadata": {},
   "source": [
    "Similarly, the CDC's Social Vulnerability Index does not seem to have any correlation to death rate"
   ]
  },
  {
   "cell_type": "code",
   "execution_count": null,
   "metadata": {},
   "outputs": [],
   "source": [
    "cases_filtered['hosp_per_pop'] = cases_filtered['#Hospitals']/cases_filtered['PopulationEstimate2018']\n",
    "cases_filtered['hosp_per_pop'] = cases_filtered['#Hospitals']/cases_filtered['PopulationEstimate2018']"
   ]
  },
  {
   "cell_type": "code",
   "execution_count": 75,
   "metadata": {},
   "outputs": [
    {
     "data": {
      "text/plain": [
       "Text(0, 0.5, 'Death Rate as of 5/6/20')"
      ]
     },
     "execution_count": 75,
     "metadata": {},
     "output_type": "execute_result"
    },
    {
     "data": {
      "image/png": "[encoded data removed]",
      "text/plain": [
       "<Figure size 432x288 with 1 Axes>"
      ]
     },
     "metadata": {
      "needs_background": "light"
     },
     "output_type": "display_data"
    }
   ],
   "source": [
    "plt.scatter(cases_filtered['PopulationEstimate2018']/cases_filtered['#Hospitals'], cases_filtered['death_rate'])\n",
    "plt.title('# of People per Hospital vs Death Rate as of 5/6/20')\n",
    "plt.xlabel('# of People per Hospital')\n",
    "plt.ylabel('Death Rate as of 5/6/20')"
   ]
  },
  {
   "cell_type": "code",
   "execution_count": 77,
   "metadata": {},
   "outputs": [
    {
     "data": {
      "text/plain": [
       "Text(0, 0.5, 'Death Rate as of 5/6/20')"
      ]
     },
     "execution_count": 77,
     "metadata": {},
     "output_type": "execute_result"
    },
    {
     "data": {
      "image/png": "[encoded data removed]",
      "text/plain": [
       "<Figure size 432x288 with 1 Axes>"
      ]
     },
     "metadata": {
      "needs_background": "light"
     },
     "output_type": "display_data"
    }
   ],
   "source": [
    "plt.scatter(cases_filtered['PopulationEstimate2018']/cases_filtered['#ICU_beds'], cases_filtered['death_rate'])\n",
    "plt.title('# of People per ICU Bed vs Death Rate as of 5/6/20')\n",
    "plt.xlabel('# of People per ICU Bed')\n",
    "plt.ylabel('Death Rate as of 5/6/20')"
   ]
  },
  {
   "cell_type": "code",
   "execution_count": 79,
   "metadata": {},
   "outputs": [
    {
     "data": {
      "text/plain": [
       "Text(0, 0.5, 'Death Rate as of 5/6/20')"
      ]
     },
     "execution_count": 79,
     "metadata": {},
     "output_type": "execute_result"
    },
    {
     "data": {
      "image/png": "[encoded data removed]",
      "text/plain": [
       "<Figure size 432x288 with 1 Axes>"
      ]
     },
     "metadata": {
      "needs_background": "light"
     },
     "output_type": "display_data"
    }
   ],
   "source": [
    "plt.scatter(cases_filtered['PopulationEstimate2018']/cases_filtered['#FTEHospitalTotal2017'], cases_filtered['death_rate'])\n",
    "plt.title('# of People per Hospital FTE vs Death Rate as of 5/6/20')\n",
    "plt.xlabel('# of People per Hopstial FTE ')\n",
    "plt.ylabel('Death Rate as of 5/6/20')"
   ]
  },
  {
   "cell_type": "markdown",
   "metadata": {},
   "source": [
    "All three of these heathcare resources appear to be good indicators of death rate."
   ]
  },
  {
   "cell_type": "code",
   "execution_count": 83,
   "metadata": {},
   "outputs": [],
   "source": [
    "dr = cases_filtered[['FIPS', 'death_rate', 'PopulationEstimate2018', '#Hospitals', '#ICU_beds', '#FTEHospitalTotal2017']].merge(\n",
    "                    income, on = 'FIPS')"
   ]
  },
  {
   "cell_type": "code",
   "execution_count": 114,
   "metadata": {},
   "outputs": [
    {
     "data": {
      "text/plain": [
       "1.0     468\n",
       "2.0     229\n",
       "3.0     112\n",
       "0.0      91\n",
       "4.0      68\n",
       "5.0      31\n",
       "6.0      23\n",
       "7.0      15\n",
       "8.0      13\n",
       "9.0      10\n",
       "10.0     10\n",
       "12.0      6\n",
       "15.0      4\n",
       "11.0      3\n",
       "34.0      2\n",
       "24.0      2\n",
       "14.0      2\n",
       "17.0      2\n",
       "19.0      2\n",
       "76.0      1\n",
       "13.0      1\n",
       "16.0      1\n",
       "18.0      1\n",
       "46.0      1\n",
       "22.0      1\n",
       "Name: #Hospitals, dtype: int64"
      ]
     },
     "execution_count": 114,
     "metadata": {},
     "output_type": "execute_result"
    }
   ],
   "source": [
    "dr['#Hospitals'].value_counts()"
   ]
  },
  {
   "cell_type": "code",
   "execution_count": 116,
   "metadata": {},
   "outputs": [
    {
     "data": {
      "text/plain": [
       "0.0      223\n",
       "6.0       45\n",
       "8.0       45\n",
       "10.0      36\n",
       "4.0       31\n",
       "        ... \n",
       "401.0      1\n",
       "331.0      1\n",
       "203.0      1\n",
       "189.0      1\n",
       "410.0      1\n",
       "Name: #ICU_beds, Length: 234, dtype: int64"
      ]
     },
     "execution_count": 116,
     "metadata": {},
     "output_type": "execute_result"
    }
   ],
   "source": [
    "dr['#ICU_beds'].value_counts()"
   ]
  },
  {
   "cell_type": "code",
   "execution_count": 117,
   "metadata": {},
   "outputs": [
    {
     "data": {
      "text/plain": [
       "0.0       83\n",
       "412.0      3\n",
       "348.0      3\n",
       "241.0      3\n",
       "143.0      3\n",
       "          ..\n",
       "2962.0     1\n",
       "654.0      1\n",
       "1866.0     1\n",
       "3688.0     1\n",
       "6710.0     1\n",
       "Name: #FTEHospitalTotal2017, Length: 922, dtype: int64"
      ]
     },
     "execution_count": 117,
     "metadata": {},
     "output_type": "execute_result"
    }
   ],
   "source": [
    "dr['#FTEHospitalTotal2017'].value_counts()"
   ]
  },
  {
   "cell_type": "code",
   "execution_count": 121,
   "metadata": {},
   "outputs": [
    {
     "data": {
      "text/plain": [
       "FIPS                            0\n",
       "death_rate                      0\n",
       "PopulationEstimate2018          0\n",
       "#Hospitals                      0\n",
       "#ICU_beds                       0\n",
       "#FTEHospitalTotal2017           0\n",
       "Median_Household_Income_2018    0\n",
       "pop_per_hosp                    0\n",
       "pop_per_icu_bed                 0\n",
       "pop_per_hosp_fte                0\n",
       "dtype: int64"
      ]
     },
     "execution_count": 121,
     "metadata": {},
     "output_type": "execute_result"
    }
   ],
   "source": [
    "dr['pop_per_hosp'] = dr['PopulationEstimate2018']/(dr['#Hospitals'] + .001)\n",
    "dr['pop_per_icu_bed'] = dr['PopulationEstimate2018']/(dr['#ICU_beds'] + .001)\n",
    "dr['pop_per_hosp_fte'] = dr['PopulationEstimate2018']/(dr['#FTEHospitalTotal2017'] + .001)\n",
    "dr.isna().sum()"
   ]
  },
  {
   "cell_type": "code",
   "execution_count": 122,
   "metadata": {},
   "outputs": [
    {
     "data": {
      "text/plain": [
       "221091000.0"
      ]
     },
     "execution_count": 122,
     "metadata": {},
     "output_type": "execute_result"
    }
   ],
   "source": [
    "max(dr['pop_per_hosp'])"
   ]
  },
  {
   "cell_type": "code",
   "execution_count": 141,
   "metadata": {},
   "outputs": [],
   "source": [
    "X = dr[['pop_per_hosp', 'pop_per_icu_bed', 'pop_per_hosp_fte', 'Median_Household_Income_2018']]\n",
    "y = dr['death_rate']"
   ]
  },
  {
   "cell_type": "code",
   "execution_count": 142,
   "metadata": {},
   "outputs": [],
   "source": [
    "def rmse(pred, real):\n",
    "    return np.sqrt(np.mean(np.square(pred - real)))"
   ]
  },
  {
   "cell_type": "code",
   "execution_count": 146,
   "metadata": {},
   "outputs": [],
   "source": [
    "from sklearn.model_selection import train_test_split\n",
    "X_train, X_test, y_train, y_test = train_test_split(X, y, test_size = .20)"
   ]
  },
  {
   "cell_type": "code",
   "execution_count": 147,
   "metadata": {},
   "outputs": [
    {
     "name": "stdout",
     "output_type": "stream",
     "text": [
      "mean predictor rmse: 4.022292655373633\n"
     ]
    }
   ],
   "source": [
    "print('mean predictor rmse:', rmse(np.mean(y_train)*np.ones(len(y_test)), y_test))"
   ]
  },
  {
   "cell_type": "code",
   "execution_count": 148,
   "metadata": {},
   "outputs": [
    {
     "name": "stdout",
     "output_type": "stream",
     "text": [
      "model rmse: 4.0162409802457155\n"
     ]
    }
   ],
   "source": [
    "from sklearn.linear_model import LinearRegression\n",
    "model = LinearRegression()\n",
    "model.fit(X_train, y_train)\n",
    "print('model rmse:', rmse(model.predict(X_test), y_test))"
   ]
  },
  {
   "cell_type": "code",
   "execution_count": null,
   "metadata": {},
   "outputs": [],
   "source": []
  }
 ],
 "metadata": {
  "kernelspec": {
   "display_name": "Python 3",
   "language": "python",
   "name": "python3"
  },
  "language_info": {
   "codemirror_mode": {
    "name": "ipython",
    "version": 3
   },
   "file_extension": ".py",
   "mimetype": "text/x-python",
   "name": "python",
   "nbconvert_exporter": "python",
   "pygments_lexer": "ipython3",
   "version": "3.7.6"
  }
 },
 "nbformat": 4,
 "nbformat_minor": 4
}
